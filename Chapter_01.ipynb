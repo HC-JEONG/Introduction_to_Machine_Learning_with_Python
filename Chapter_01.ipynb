{
  "nbformat": 4,
  "nbformat_minor": 0,
  "metadata": {
    "colab": {
      "name": "Chapter 01.ipynb",
      "version": "0.3.2",
      "provenance": [],
      "collapsed_sections": [],
      "include_colab_link": true
    },
    "kernelspec": {
      "name": "python3",
      "display_name": "Python 3"
    }
  },
  "cells": [
    {
      "cell_type": "markdown",
      "metadata": {
        "id": "view-in-github",
        "colab_type": "text"
      },
      "source": [
        "<a href=\"https://colab.research.google.com/github/HC-JEONG/Introduction_to_Machine_Learning_with_Python/blob/master/Chapter_01.ipynb\" target=\"_parent\"><img src=\"https://colab.research.google.com/assets/colab-badge.svg\" alt=\"Open In Colab\"/></a>"
      ]
    },
    {
      "cell_type": "markdown",
      "metadata": {
        "id": "TVVtUqIcxytb",
        "colab_type": "text"
      },
      "source": [
        "# Chapter 1 소개"
      ]
    },
    {
      "cell_type": "markdown",
      "metadata": {
        "id": "q5JPjm3vx371",
        "colab_type": "text"
      },
      "source": [
        "# 1.1 왜 머신러닝인가?"
      ]
    },
    {
      "cell_type": "markdown",
      "metadata": {
        "id": "Rt5LlZjDyHeN",
        "colab_type": "text"
      },
      "source": [
        "## 1.1.1 머신러닝으로 풀 수 있는 문제\n",
        "\n",
        "**지도학습(supervised learning)이란?**\n",
        "\n",
        "> 사용자가 알고리즘에 입력과 기대되는 출력을 제공하고 알고리즘은 주어진 입력에서 원하는 출력을 만드는 방법을 찾는 것.\n",
        "\n",
        "> 즉, 머신러닝 알고리즘들은 이미 알려진 사례를 바탕으로 일반화된 모델을 만들어 의사 결정 프로세스를 자동화하는 것들이다."
      ]
    },
    {
      "cell_type": "markdown",
      "metadata": {
        "id": "1cZESM_T009a",
        "colab_type": "text"
      },
      "source": [
        "# 1.3 scikit-learn\n",
        "\n",
        "[알고리즘 설명들을 모아둔 문서](https://scikit-learn.org/stable/documentation)\n",
        "\n",
        "[scikit-learn의 사용자 가이드](https://scikit-learn.org/stable/user_guide.html)\n",
        "\n",
        "[API 문서](https://scikit-learn.org/stable/modules/classes.html)\n"
      ]
    },
    {
      "cell_type": "markdown",
      "metadata": {
        "id": "MpGYtyvh1fjT",
        "colab_type": "text"
      },
      "source": [
        "## 1.3.1 scikit-learn 설치\n",
        "\n",
        "> scikit-learn은 두 개의 다른 파이썬 패키지인 NumPy와 SciPy를 사용한다.\n",
        "\n",
        "[Anaconda](https://www.continuum.io/anaconda-overview)는 Numpy, SciPy, matplotlib, pandas, IPython, 주피터 노트북, 그리고 scikit-learn을 모두 포함한다."
      ]
    },
    {
      "cell_type": "markdown",
      "metadata": {
        "id": "svl_0IlA2By9",
        "colab_type": "text"
      },
      "source": [
        "# 1.4 필수 라이브러리와 도구들"
      ]
    },
    {
      "cell_type": "markdown",
      "metadata": {
        "id": "pfZJBN3b2KiC",
        "colab_type": "text"
      },
      "source": [
        "## 1.4.1 주피터 노트북\n",
        "\n",
        "*프로그램 코드를 브라우저에서 실행해주는 대화식 환경이다.*\n",
        "\n",
        "> 탐색적 데이터 분석에 적합하다."
      ]
    },
    {
      "cell_type": "markdown",
      "metadata": {
        "id": "Trk2_H9F2nz2",
        "colab_type": "text"
      },
      "source": [
        "## 1.4.2 NumPy\n",
        "\n",
        "[NumPy](https://www.numpy.org)는 파이썬으로 과학 계산을 할때 유용한 패키지다. \n",
        "\n",
        "> 다차원 배열, 선형 대수, 푸리에 변환, 난수 생성기를 포함하고 있다.\n",
        "\n",
        "> scikit-learn에서 NumPy 배열은 기본 데이터 구조다."
      ]
    },
    {
      "cell_type": "code",
      "metadata": {
        "id": "vntdy6zd3BfA",
        "colab_type": "code",
        "outputId": "e543070e-b874-476d-93c4-7169aedd5ce3",
        "colab": {
          "base_uri": "https://localhost:8080/",
          "height": 73
        }
      },
      "source": [
        "# NumPy 배열의 예\n",
        "\n",
        "import numpy as np\n",
        "\n",
        "x=np.array([[1,2,3],[4,5,6]])\n",
        "print(\"x:\\n\", x)"
      ],
      "execution_count": 0,
      "outputs": [
        {
          "output_type": "stream",
          "text": [
            "x:\n",
            " [[1 2 3]\n",
            " [4 5 6]]\n"
          ],
          "name": "stdout"
        }
      ]
    },
    {
      "cell_type": "markdown",
      "metadata": {
        "id": "LQSSj7wG3Of_",
        "colab_type": "text"
      },
      "source": [
        "*NumPy의 ndarray 클래스의 객체를 NumPy 배열 또는 그냥 배열이라고 부를 것이다.*"
      ]
    },
    {
      "cell_type": "markdown",
      "metadata": {
        "id": "vFH9ItE53ILi",
        "colab_type": "text"
      },
      "source": [
        "## 1.4.3 SciPy\n",
        "\n",
        "[SciPy](https://www.scipy.org/scipylib)는 NumPy 처럼 과학 계산용 함수가 모여져 있다.\n",
        "\n",
        "> scipy.sparse 모듈로 희소 행렬 기능을 제공한다.\n",
        "\n",
        "*희소 행렬은 0을 많이 포함한 2차원 배열을 뜻한다.*"
      ]
    },
    {
      "cell_type": "code",
      "metadata": {
        "id": "BZQmI3rV4ENY",
        "colab_type": "code",
        "outputId": "09c963a0-af74-425e-ab42-919afbf12193",
        "colab": {
          "base_uri": "https://localhost:8080/",
          "height": 111
        }
      },
      "source": [
        "from scipy import sparse\n",
        "\n",
        "# 대각선 원소는 1이고 나머지는 0인 2차원 NumPy 배열을 만듭니다.\n",
        "eye = np.eye(4)\n",
        "print(\"NumPy 배열:\\n\", eye)"
      ],
      "execution_count": 0,
      "outputs": [
        {
          "output_type": "stream",
          "text": [
            "NumPy 배열:\n",
            " [[1. 0. 0. 0.]\n",
            " [0. 1. 0. 0.]\n",
            " [0. 0. 1. 0.]\n",
            " [0. 0. 0. 1.]]\n"
          ],
          "name": "stdout"
        }
      ]
    },
    {
      "cell_type": "code",
      "metadata": {
        "id": "ESXVXPuu4Nyy",
        "colab_type": "code",
        "outputId": "ecf3f304-187d-4d21-8386-0f52ccde9b4b",
        "colab": {
          "base_uri": "https://localhost:8080/",
          "height": 129
        }
      },
      "source": [
        "# NumPy 배열을 CSR 포맷의 SciPy 희박 행렬로 변환합니다.\n",
        "# 0이 아닌 원소만 저장됩니다.\n",
        "sparse_matrix=sparse.csr_matrix(eye)\n",
        "print(\"\\nSciPy의 CSR 행렬:\\n\", sparse_matrix)"
      ],
      "execution_count": 0,
      "outputs": [
        {
          "output_type": "stream",
          "text": [
            "\n",
            "SciPy의 CSR 행렬:\n",
            "   (0, 0)\t1.0\n",
            "  (1, 1)\t1.0\n",
            "  (2, 2)\t1.0\n",
            "  (3, 3)\t1.0\n"
          ],
          "name": "stdout"
        }
      ]
    },
    {
      "cell_type": "code",
      "metadata": {
        "id": "OC21fZqU5QXn",
        "colab_type": "code",
        "outputId": "b05f1978-da1d-47ea-b5f7-a75f2f7d562c",
        "colab": {
          "base_uri": "https://localhost:8080/",
          "height": 111
        }
      },
      "source": [
        "# COO 포맷을 이용해서 앞서와 동일한 희소 행렬을 만드는 예제\n",
        "data=np.ones(4)\n",
        "row_indices=np.arange(4)\n",
        "col_indices=np.arange(4)\n",
        "eye_coo=sparse.coo_matrix((data, (row_indices, col_indices)))\n",
        "print(\"COO 표현:\\n\", eye_coo)"
      ],
      "execution_count": 0,
      "outputs": [
        {
          "output_type": "stream",
          "text": [
            "COO 표현:\n",
            "   (0, 0)\t1.0\n",
            "  (1, 1)\t1.0\n",
            "  (2, 2)\t1.0\n",
            "  (3, 3)\t1.0\n"
          ],
          "name": "stdout"
        }
      ]
    },
    {
      "cell_type": "markdown",
      "metadata": {
        "id": "XNIzhxSZ5eh_",
        "colab_type": "text"
      },
      "source": [
        "[SciPy의 희소 행렬에 대한 내용](https://www.scipy-lectures.org)"
      ]
    },
    {
      "cell_type": "markdown",
      "metadata": {
        "id": "Cg1_48u65lmU",
        "colab_type": "text"
      },
      "source": [
        "## 1.4.4 matplotlib\n",
        "\n",
        "[matplotlib](https://matplotlib.org)는 과학 계산용 그래프 라이브러리다."
      ]
    },
    {
      "cell_type": "code",
      "metadata": {
        "id": "9_0cHZ-F5yBV",
        "colab_type": "code",
        "outputId": "9e1fbeb4-50fc-4f1d-eece-ae43e56bb91b",
        "colab": {
          "base_uri": "https://localhost:8080/",
          "height": 288
        }
      },
      "source": [
        "%matplotlib inline\n",
        "import matplotlib.pyplot as plt\n",
        "\n",
        "# -10에서 10까지 100개의 간격으로 나뉘어진 배열을 생성합니다.\n",
        "x=np.linspace(-10,10,100)\n",
        "# 사인 함수를 사용하여 y 배열을 생성합니다.\n",
        "y=np.sin(x)\n",
        "# plot 함수는 한 배열의 값을 다른 배열에 대응해서 선 그래프를 그립니다.\n",
        "plt.plot(x,y,marker=\"x\")"
      ],
      "execution_count": 0,
      "outputs": [
        {
          "output_type": "execute_result",
          "data": {
            "text/plain": [
              "[<matplotlib.lines.Line2D at 0x7f7eed1c95c0>]"
            ]
          },
          "metadata": {
            "tags": []
          },
          "execution_count": 6
        },
        {
          "output_type": "display_data",
          "data": {
            "image/png": "[encoded data removed]",
            "text/plain": [
              "<Figure size 432x288 with 1 Axes>"
            ]
          },
          "metadata": {
            "tags": []
          }
        }
      ]
    },
    {
      "cell_type": "markdown",
      "metadata": {
        "id": "kvtZ1FBH51nn",
        "colab_type": "text"
      },
      "source": [
        "## 1.4.5 pandas"
      ]
    },
    {
      "cell_type": "markdown",
      "metadata": {
        "id": "cpTDHHvi50wd",
        "colab_type": "text"
      },
      "source": [
        "[pandas](https://pandas.pydata.org)는 데이터 처리와 분석을 위한 파이썬 라이브러리다.\n",
        "\n",
        "> R의 data.frame을 본떠서 설계한 DataFrame이라는 데이터 구조를 기반으로 만들어졌다."
      ]
    },
    {
      "cell_type": "code",
      "metadata": {
        "id": "Hqzmz2bW_uCC",
        "colab_type": "code",
        "outputId": "cd9da80a-c105-4001-bd63-7ceea558b551",
        "colab": {
          "base_uri": "https://localhost:8080/",
          "height": 171
        }
      },
      "source": [
        "import pandas as pd\n",
        "\n",
        "# 회원 정보가 들어간 간단한 데이터셋을 생성합니다.\n",
        "data={'Name': [\"John\", \"Anna\", \"Peter\", \"Linda\"],\n",
        "      'Location': [\"New York\", \"Paris\", \"Berlin\", \"London\"],\n",
        "      'Age': [24, 13, 53, 33]\n",
        "     }\n",
        "\n",
        "data_pandas=pd.DataFrame(data)\n",
        "\n",
        "# IPython.display는 주피터 노트북에서 Dataframe을 미려하게 출력해줍니다.\n",
        "display(data_pandas)"
      ],
      "execution_count": 0,
      "outputs": [
        {
          "output_type": "display_data",
          "data": {
            "text/html": [
              "<div>\n",
              "<style scoped>\n",
              "    .dataframe tbody tr th:only-of-type {\n",
              "        vertical-align: middle;\n",
              "    }\n",
              "\n",
              "    .dataframe tbody tr th {\n",
              "        vertical-align: top;\n",
              "    }\n",
              "\n",
              "    .dataframe thead th {\n",
              "        text-align: right;\n",
              "    }\n",
              "</style>\n",
              "<table border=\"1\" class=\"dataframe\">\n",
              "  <thead>\n",
              "    <tr style=\"text-align: right;\">\n",
              "      <th></th>\n",
              "      <th>Name</th>\n",
              "      <th>Location</th>\n",
              "      <th>Age</th>\n",
              "    </tr>\n",
              "  </thead>\n",
              "  <tbody>\n",
              "    <tr>\n",
              "      <th>0</th>\n",
              "      <td>John</td>\n",
              "      <td>New York</td>\n",
              "      <td>24</td>\n",
              "    </tr>\n",
              "    <tr>\n",
              "      <th>1</th>\n",
              "      <td>Anna</td>\n",
              "      <td>Paris</td>\n",
              "      <td>13</td>\n",
              "    </tr>\n",
              "    <tr>\n",
              "      <th>2</th>\n",
              "      <td>Peter</td>\n",
              "      <td>Berlin</td>\n",
              "      <td>53</td>\n",
              "    </tr>\n",
              "    <tr>\n",
              "      <th>3</th>\n",
              "      <td>Linda</td>\n",
              "      <td>London</td>\n",
              "      <td>33</td>\n",
              "    </tr>\n",
              "  </tbody>\n",
              "</table>\n",
              "</div>"
            ],
            "text/plain": [
              "    Name  Location  Age\n",
              "0   John  New York   24\n",
              "1   Anna     Paris   13\n",
              "2  Peter    Berlin   53\n",
              "3  Linda    London   33"
            ]
          },
          "metadata": {
            "tags": []
          }
        }
      ]
    },
    {
      "cell_type": "code",
      "metadata": {
        "id": "aUSECTyDAOE0",
        "colab_type": "code",
        "outputId": "9144ef10-c253-4fee-930b-2cfa103ef5f8",
        "colab": {
          "base_uri": "https://localhost:8080/",
          "height": 110
        }
      },
      "source": [
        "# Age 열의 값이 30 이상인 모든 행을 선택합니다.\n",
        "display(data_pandas[data_pandas.Age>30])"
      ],
      "execution_count": 0,
      "outputs": [
        {
          "output_type": "display_data",
          "data": {
            "text/html": [
              "<div>\n",
              "<style scoped>\n",
              "    .dataframe tbody tr th:only-of-type {\n",
              "        vertical-align: middle;\n",
              "    }\n",
              "\n",
              "    .dataframe tbody tr th {\n",
              "        vertical-align: top;\n",
              "    }\n",
              "\n",
              "    .dataframe thead th {\n",
              "        text-align: right;\n",
              "    }\n",
              "</style>\n",
              "<table border=\"1\" class=\"dataframe\">\n",
              "  <thead>\n",
              "    <tr style=\"text-align: right;\">\n",
              "      <th></th>\n",
              "      <th>Name</th>\n",
              "      <th>Location</th>\n",
              "      <th>Age</th>\n",
              "    </tr>\n",
              "  </thead>\n",
              "  <tbody>\n",
              "    <tr>\n",
              "      <th>2</th>\n",
              "      <td>Peter</td>\n",
              "      <td>Berlin</td>\n",
              "      <td>53</td>\n",
              "    </tr>\n",
              "    <tr>\n",
              "      <th>3</th>\n",
              "      <td>Linda</td>\n",
              "      <td>London</td>\n",
              "      <td>33</td>\n",
              "    </tr>\n",
              "  </tbody>\n",
              "</table>\n",
              "</div>"
            ],
            "text/plain": [
              "    Name Location  Age\n",
              "2  Peter   Berlin   53\n",
              "3  Linda   London   33"
            ]
          },
          "metadata": {
            "tags": []
          }
        }
      ]
    },
    {
      "cell_type": "markdown",
      "metadata": {
        "id": "cvjnyDb6AsPG",
        "colab_type": "text"
      },
      "source": [
        "## 1.4.6 mglearn\n",
        "\n",
        "이 라이브러리는 그래프나 데이터 적재와 관련한 세세한 코드를 일일이 쓰지 않아도 되게끔 이 책을 위해 맏는 유틸리티 함수다."
      ]
    },
    {
      "cell_type": "markdown",
      "metadata": {
        "id": "6sL50VABBxla",
        "colab_type": "text"
      },
      "source": [
        "# 1.6 이 책에서 사용하는 소프트웨어 버전"
      ]
    },
    {
      "cell_type": "code",
      "metadata": {
        "id": "Fbbbi9vHB1Fy",
        "colab_type": "code",
        "outputId": "145ba98b-a43f-4bd8-9fb0-42884b038bd2",
        "colab": {
          "base_uri": "https://localhost:8080/",
          "height": 167
        }
      },
      "source": [
        "# 버전 확인 코드\n",
        "\n",
        "import sys\n",
        "print(\"Python ver:\", sys.version)\n",
        "\n",
        "import pandas as pd\n",
        "print(\"pandas ver:\", pd.__version__)\n",
        "\n",
        "import matplotlib\n",
        "print(\"matplotlib ver:\", matplotlib.__version__)\n",
        "\n",
        "import numpy as np\n",
        "print(\"NumPy ver:\", np.__version__)\n",
        "\n",
        "import scipy as sp\n",
        "print(\"SciPy ver:\", sp.__version__)\n",
        "\n",
        "import IPython\n",
        "print(\"IPython ver:\", IPython.__version__)\n",
        "\n",
        "import sklearn\n",
        "print(\"scikit-learn ver:\", sklearn.__version__)"
      ],
      "execution_count": 0,
      "outputs": [
        {
          "output_type": "stream",
          "text": [
            "Python ver: 3.6.8 (default, Jan 14 2019, 11:02:34) \n",
            "[GCC 8.0.1 20180414 (experimental) [trunk revision 259383]]\n",
            "pandas ver: 0.24.2\n",
            "matplotlib ver: 3.0.3\n",
            "NumPy ver: 1.16.4\n",
            "SciPy ver: 1.3.0\n",
            "IPython ver: 5.5.0\n",
            "scikit-learn ver: 0.21.3\n"
          ],
          "name": "stdout"
        }
      ]
    },
    {
      "cell_type": "markdown",
      "metadata": {
        "id": "cHmJgrwOC5tO",
        "colab_type": "text"
      },
      "source": [
        "# 1.7 첫 번째 애플리케이션: 붓꽃의 품종 분류"
      ]
    }
  ]
}
{
  "nbformat": 4,
  "nbformat_minor": 0,
  "metadata": {
    "colab": {
      "name": "Ch2-1~3 Supervised Learning.ipynb",
      "version": "0.3.2",
      "provenance": [],
      "collapsed_sections": [],
      "include_colab_link": true
    },
    "kernelspec": {
      "name": "python3",
      "display_name": "Python 3"
    }
  },
  "cells": [
    {
      "cell_type": "markdown",
      "metadata": {
        "id": "view-in-github",
        "colab_type": "text"
      },
      "source": [
        "<a href=\"https://colab.research.google.com/github/HC-JEONG/Introduction_to_Machine_Learning_with_Python/blob/master/Ch2%201~3%20Supervised%20Learning.ipynb\" target=\"_parent\"><img src=\"https://colab.research.google.com/assets/colab-badge.svg\" alt=\"Open In Colab\"/></a>"
      ]
    },
    {
      "cell_type": "markdown",
      "metadata": {
        "id": "xhgV8mzI24Lf",
        "colab_type": "text"
      },
      "source": [
        "# Chapter 2 지도 학습\n",
        "\n",
        "> 지도 학습은 입력과 출력 샘플 데이터가 있고, 주어진 입력으로부터 출력을 예측하고자 할 때 사용한다. 이런 입/출력 샘플 데이터, 즉 training set으로부터 머신러닝 모델을 만든다. 목표는 이전에 본 적 없는 새로운 데이터에 대해 정확한 출력을 예측하는 것이다."
      ]
    },
    {
      "cell_type": "markdown",
      "metadata": {
        "id": "AfheJmga3yoc",
        "colab_type": "text"
      },
      "source": [
        "# 2.1 분류와 회귀\n",
        "\n",
        "> 지도학습에는 **분류(classification)**와 **회귀(regression)**가 있다.\n",
        "\n",
        "*   **분류**는 미리 정의된, 가능성 있는 여러 클래스 레이블(class label) 중 하나를 예측하는 것이다.\n",
        "*   **회귀**는 연속적인 숫자, 또는 프로그래밍 용어로 말하면 부동소수점수(수학 용어로는 실수)를 예측하는 것이다.\n",
        "\n",
        "> 출력 값에 연속성이 있는지 비교해보면 회귀와 분류 문제를 쉽게 구분 할 수 있다.\n"
      ]
    },
    {
      "cell_type": "markdown",
      "metadata": {
        "id": "24YwmYoo6oP2",
        "colab_type": "text"
      },
      "source": [
        "# 2.2 일반화, 과대적합, 과소적합\n",
        "\n",
        "> 모델이 처음 보는 데이터에 대해 정확하게 예측할 수 있으면 이를 훈련 세트에서 테스트 세트로 **일반화**(generalization)되었다고 한다.\n",
        "\n",
        "> 알고리즘이 새로운 데이터도 잘 처리하는지 측정하는 방법은 test set으로 평가해보는 것밖에 없다.\n",
        "\n",
        "\n",
        "\n",
        "*   가진 정보를 모두 사용해서 너무 복잡한 모델을 만드는 것을 **과대적합(overfitting)**이라고 한다.\n",
        "*   너무 간단한 모델이 선택되는 것을 **과소적합(underfitting)**이라고 한다.\n"
      ]
    },
    {
      "cell_type": "markdown",
      "metadata": {
        "id": "vyykiAaQrYJ-",
        "colab_type": "text"
      },
      "source": [
        "## 2.2.1 모델 복잡도와 데이터셋 크기의 관계\n",
        "\n",
        "> 데이터셋에서 다양한 개체(행 갯수)가 많을수록 과대적합 없이 더 복잡한 모델을 만들 수 있다.\n",
        "\n",
        "개체를 더 많이 모으는 것이 다양성을 키워주므로 큰 데이터셋은 더 복잡한 모델을 만들 수 있게 해준다. 그러나 같은 개체를 중복하거나 매우 비슷한 개체를 모으는 것은 도움이 되지 않는다.\n"
      ]
    },
    {
      "cell_type": "markdown",
      "metadata": {
        "id": "mO3IiS8CV9ce",
        "colab_type": "text"
      },
      "source": [
        "# 2.3 지도 학습 알고리즘\n",
        "\n"
      ]
    },
    {
      "cell_type": "markdown",
      "metadata": {
        "id": "BFmoGjpXWLir",
        "colab_type": "text"
      },
      "source": [
        "## 2.3.1 예제에 사용할 데이터셋\n",
        "\n",
        "두 개의 특성을 가진 forge dataset은 인위적으로 만든 이진 분류 데이터셋이다."
      ]
    },
    {
      "cell_type": "code",
      "metadata": {
        "id": "pc-2aloU24Lj",
        "colab_type": "code",
        "outputId": "45db8ff8-a6c2-4f7a-933e-96abebfa7a75",
        "colab": {
          "base_uri": "https://localhost:8080/",
          "height": 919
        }
      },
      "source": [
        "import numpy as np\n",
        "import pandas as pd\n",
        "import matplotlib.pyplot as plt\n",
        "import matplotlib as mpl\n",
        "from matplotlib import font_manager as fm\n",
        "from matplotlib import rc\n",
        "%matplotlib inline\n",
        "import pandas as pd\n",
        "!pip install mglearn\n",
        "import mglearn\n",
        "import scipy as sp\n",
        "import sklearn\n",
        "import graphviz\n",
        "from IPython.display import display\n",
        "from sklearn.pipeline import make_pipeline\n",
        "from google.colab import files\n",
        "import io\n",
        "\n",
        "!apt-get update -qq\n",
        "!apt-get install fonts-nanum* -qq\n",
        "sys_font=fm.findSystemFonts()\n",
        "nanum_font = [f for f in sys_font if 'Nanum' in f]\n",
        "nanum_font\n",
        "path = '/usr/share/fonts/truetype/nanum/NanumGothicEco.ttf'\n",
        "\n",
        "font_name = fm.FontProperties(fname=path, size=10).get_name()\n",
        "print(font_name)\n",
        "\n",
        "plt.rc('font', family=font_name)\n",
        "mpl.rcParams['axes.unicode_minus'] = False\n",
        "\n",
        "fm._rebuild()"
      ],
      "execution_count": 0,
      "outputs": [
        {
          "output_type": "stream",
          "text": [
            "Collecting mglearn\n",
            "\u001b[?25l  Downloading https://files.pythonhosted.org/packages/fb/01/8d3630ecc767c9de96a9c46e055f2a3a5f9e14a47d3d0348a36a5005fe67/mglearn-0.1.7.tar.gz (540kB)\n",
            "\r\u001b[K     |▋                               | 10kB 21.1MB/s eta 0:00:01\r\u001b[K     |█▏                              | 20kB 1.9MB/s eta 0:00:01\r\u001b[K     |█▉                              | 30kB 2.8MB/s eta 0:00:01\r\u001b[K     |██▍                             | 40kB 1.9MB/s eta 0:00:01\r\u001b[K     |███                             | 51kB 2.4MB/s eta 0:00:01\r\u001b[K     |███▋                            | 61kB 2.9MB/s eta 0:00:01\r\u001b[K     |████▎                           | 71kB 3.3MB/s eta 0:00:01\r\u001b[K     |████▉                           | 81kB 3.8MB/s eta 0:00:01\r\u001b[K     |█████▌                          | 92kB 4.2MB/s eta 0:00:01\r\u001b[K     |██████                          | 102kB 3.3MB/s eta 0:00:01\r\u001b[K     |██████▋                         | 112kB 3.3MB/s eta 0:00:01\r\u001b[K     |███████▎                        | 122kB 3.3MB/s eta 0:00:01\r\u001b[K     |███████▉                        | 133kB 3.3MB/s eta 0:00:01\r\u001b[K     |████████▌                       | 143kB 3.3MB/s eta 0:00:01\r\u001b[K     |█████████                       | 153kB 3.3MB/s eta 0:00:01\r\u001b[K     |█████████▊                      | 163kB 3.3MB/s eta 0:00:01\r\u001b[K     |██████████▎                     | 174kB 3.3MB/s eta 0:00:01\r\u001b[K     |███████████                     | 184kB 3.3MB/s eta 0:00:01\r\u001b[K     |███████████▌                    | 194kB 3.3MB/s eta 0:00:01\r\u001b[K     |████████████▏                   | 204kB 3.3MB/s eta 0:00:01\r\u001b[K     |████████████▊                   | 215kB 3.3MB/s eta 0:00:01\r\u001b[K     |█████████████▎                  | 225kB 3.3MB/s eta 0:00:01\r\u001b[K     |██████████████                  | 235kB 3.3MB/s eta 0:00:01\r\u001b[K     |██████████████▌                 | 245kB 3.3MB/s eta 0:00:01\r\u001b[K     |███████████████▏                | 256kB 3.3MB/s eta 0:00:01\r\u001b[K     |███████████████▊                | 266kB 3.3MB/s eta 0:00:01\r\u001b[K     |████████████████▍               | 276kB 3.3MB/s eta 0:00:01\r\u001b[K     |█████████████████               | 286kB 3.3MB/s eta 0:00:01\r\u001b[K     |█████████████████▋              | 296kB 3.3MB/s eta 0:00:01\r\u001b[K     |██████████████████▏             | 307kB 3.3MB/s eta 0:00:01\r\u001b[K     |██████████████████▊             | 317kB 3.3MB/s eta 0:00:01\r\u001b[K     |███████████████████▍            | 327kB 3.3MB/s eta 0:00:01\r\u001b[K     |████████████████████            | 337kB 3.3MB/s eta 0:00:01\r\u001b[K     |████████████████████▋           | 348kB 3.3MB/s eta 0:00:01\r\u001b[K     |█████████████████████▏          | 358kB 3.3MB/s eta 0:00:01\r\u001b[K     |█████████████████████▉          | 368kB 3.3MB/s eta 0:00:01\r\u001b[K     |██████████████████████▍         | 378kB 3.3MB/s eta 0:00:01\r\u001b[K     |███████████████████████         | 389kB 3.3MB/s eta 0:00:01\r\u001b[K     |███████████████████████▋        | 399kB 3.3MB/s eta 0:00:01\r\u001b[K     |████████████████████████▎       | 409kB 3.3MB/s eta 0:00:01\r\u001b[K     |████████████████████████▉       | 419kB 3.3MB/s eta 0:00:01\r\u001b[K     |█████████████████████████▍      | 430kB 3.3MB/s eta 0:00:01\r\u001b[K     |██████████████████████████      | 440kB 3.3MB/s eta 0:00:01\r\u001b[K     |██████████████████████████▋     | 450kB 3.3MB/s eta 0:00:01\r\u001b[K     |███████████████████████████▎    | 460kB 3.3MB/s eta 0:00:01\r\u001b[K     |███████████████████████████▉    | 471kB 3.3MB/s eta 0:00:01\r\u001b[K     |████████████████████████████▌   | 481kB 3.3MB/s eta 0:00:01\r\u001b[K     |█████████████████████████████   | 491kB 3.3MB/s eta 0:00:01\r\u001b[K     |█████████████████████████████▊  | 501kB 3.3MB/s eta 0:00:01\r\u001b[K     |██████████████████████████████▎ | 512kB 3.3MB/s eta 0:00:01\r\u001b[K     |███████████████████████████████ | 522kB 3.3MB/s eta 0:00:01\r\u001b[K     |███████████████████████████████▌| 532kB 3.3MB/s eta 0:00:01\r\u001b[K     |████████████████████████████████| 542kB 3.3MB/s \n",
            "\u001b[?25hRequirement already satisfied: numpy in /usr/local/lib/python3.6/dist-packages (from mglearn) (1.16.4)\n",
            "Requirement already satisfied: matplotlib in /usr/local/lib/python3.6/dist-packages (from mglearn) (3.0.3)\n",
            "Requirement already satisfied: scikit-learn in /usr/local/lib/python3.6/dist-packages (from mglearn) (0.21.3)\n",
            "Requirement already satisfied: pandas in /usr/local/lib/python3.6/dist-packages (from mglearn) (0.24.2)\n",
            "Requirement already satisfied: pillow in /usr/local/lib/python3.6/dist-packages (from mglearn) (4.3.0)\n",
            "Requirement already satisfied: cycler in /usr/local/lib/python3.6/dist-packages (from mglearn) (0.10.0)\n",
            "Requirement already satisfied: imageio in /usr/local/lib/python3.6/dist-packages (from mglearn) (2.4.1)\n",
            "Requirement already satisfied: python-dateutil>=2.1 in /usr/local/lib/python3.6/dist-packages (from matplotlib->mglearn) (2.5.3)\n",
            "Requirement already satisfied: kiwisolver>=1.0.1 in /usr/local/lib/python3.6/dist-packages (from matplotlib->mglearn) (1.1.0)\n",
            "Requirement already satisfied: pyparsing!=2.0.4,!=2.1.2,!=2.1.6,>=2.0.1 in /usr/local/lib/python3.6/dist-packages (from matplotlib->mglearn) (2.4.2)\n",
            "Requirement already satisfied: scipy>=0.17.0 in /usr/local/lib/python3.6/dist-packages (from scikit-learn->mglearn) (1.3.1)\n",
            "Requirement already satisfied: joblib>=0.11 in /usr/local/lib/python3.6/dist-packages (from scikit-learn->mglearn) (0.13.2)\n",
            "Requirement already satisfied: pytz>=2011k in /usr/local/lib/python3.6/dist-packages (from pandas->mglearn) (2018.9)\n",
            "Requirement already satisfied: olefile in /usr/local/lib/python3.6/dist-packages (from pillow->mglearn) (0.46)\n",
            "Requirement already satisfied: six in /usr/local/lib/python3.6/dist-packages (from cycler->mglearn) (1.12.0)\n",
            "Requirement already satisfied: setuptools in /usr/local/lib/python3.6/dist-packages (from kiwisolver>=1.0.1->matplotlib->mglearn) (41.2.0)\n",
            "Building wheels for collected packages: mglearn\n",
            "  Building wheel for mglearn (setup.py) ... \u001b[?25l\u001b[?25hdone\n",
            "  Created wheel for mglearn: filename=mglearn-0.1.7-py2.py3-none-any.whl size=582706 sha256=eedab391f66cb37b1b003497d762fd0de002f5b710215dc546a7c78d3f792934\n",
            "  Stored in directory: /root/.cache/pip/wheels/74/cf/8d/04f4932d15854a36726c6210763c7127e62de28f5c8ddfcf3b\n",
            "Successfully built mglearn\n",
            "Installing collected packages: mglearn\n",
            "Successfully installed mglearn-0.1.7\n"
          ],
          "name": "stdout"
        },
        {
          "output_type": "stream",
          "text": [
            "/usr/local/lib/python3.6/dist-packages/sklearn/externals/six.py:31: DeprecationWarning: The module is deprecated in version 0.21 and will be removed in version 0.23 since we've dropped support for Python 2.7. Please rely on the official version of six (https://pypi.org/project/six/).\n",
            "  \"(https://pypi.org/project/six/).\", DeprecationWarning)\n",
            "/usr/local/lib/python3.6/dist-packages/sklearn/externals/joblib/__init__.py:15: DeprecationWarning: sklearn.externals.joblib is deprecated in 0.21 and will be removed in 0.23. Please import this functionality directly from joblib, which can be installed with: pip install joblib. If this warning is raised when loading pickled models, you may need to re-serialize those models with scikit-learn 0.21+.\n",
            "  warnings.warn(msg, category=DeprecationWarning)\n"
          ],
          "name": "stderr"
        },
        {
          "output_type": "stream",
          "text": [
            "Selecting previously unselected package fonts-nanum.\n",
            "(Reading database ... 131183 files and directories currently installed.)\n",
            "Preparing to unpack .../fonts-nanum_20170925-1_all.deb ...\n",
            "Unpacking fonts-nanum (20170925-1) ...\n",
            "Selecting previously unselected package fonts-nanum-eco.\n",
            "Preparing to unpack .../fonts-nanum-eco_1.000-6_all.deb ...\n",
            "Unpacking fonts-nanum-eco (1.000-6) ...\n",
            "Selecting previously unselected package fonts-nanum-extra.\n",
            "Preparing to unpack .../fonts-nanum-extra_20170925-1_all.deb ...\n",
            "Unpacking fonts-nanum-extra (20170925-1) ...\n",
            "Selecting previously unselected package fonts-nanum-coding.\n",
            "Preparing to unpack .../fonts-nanum-coding_2.5-1_all.deb ...\n",
            "Unpacking fonts-nanum-coding (2.5-1) ...\n",
            "Setting up fonts-nanum-extra (20170925-1) ...\n",
            "Setting up fonts-nanum (20170925-1) ...\n",
            "Setting up fonts-nanum-coding (2.5-1) ...\n",
            "Setting up fonts-nanum-eco (1.000-6) ...\n",
            "Processing triggers for fontconfig (2.12.6-0ubuntu2) ...\n",
            "NanumGothic Eco\n"
          ],
          "name": "stdout"
        }
      ]
    },
    {
      "cell_type": "code",
      "metadata": {
        "id": "VNoBYlqO24Ln",
        "colab_type": "code",
        "outputId": "35b85764-a74a-45ba-d47f-be7ba0ce47d6",
        "colab": {
          "base_uri": "https://localhost:8080/",
          "height": 336
        }
      },
      "source": [
        "# 데이터셋을 만듭니다\n",
        "X, y = mglearn.datasets.make_forge()\n",
        "# 산점도를 그립니다.\n",
        "mglearn.discrete_scatter(X[:, 0], X[:, 1], y)\n",
        "plt.legend([\"클래스 0\", \"클래스 1\"], loc=4)\n",
        "plt.xlabel(\"첫 번째 특성\")\n",
        "plt.ylabel(\"두 번째 특성\")\n",
        "print(\"X.shape:\", X.shape)"
      ],
      "execution_count": 0,
      "outputs": [
        {
          "output_type": "stream",
          "text": [
            "/usr/local/lib/python3.6/dist-packages/sklearn/utils/deprecation.py:85: DeprecationWarning: Function make_blobs is deprecated; Please import make_blobs directly from scikit-learn\n",
            "  warnings.warn(msg, category=DeprecationWarning)\n"
          ],
          "name": "stderr"
        },
        {
          "output_type": "stream",
          "text": [
            "X.shape: (26, 2)\n"
          ],
          "name": "stdout"
        },
        {
          "output_type": "display_data",
          "data": {
            "image/png": "[encoded data removed]",
            "text/plain": [
              "<Figure size 432x288 with 1 Axes>"
            ]
          },
          "metadata": {
            "tags": []
          }
        }
      ]
    },
    {
      "cell_type": "markdown",
      "metadata": {
        "id": "h8s_5xUiYVOJ",
        "colab_type": "text"
      },
      "source": [
        "X.shape 값을 통해 이 데이터셋은 26개의 개체와 특성(attribute, feature) 2개를 가진다는 것을 알 수 있다."
      ]
    },
    {
      "cell_type": "markdown",
      "metadata": {
        "id": "79VSm6iCdtXu",
        "colab_type": "text"
      },
      "source": [
        "wave dataset은 입력 특성 하나와 모델링할 타깃 변수(또는 응답)를 가진다."
      ]
    },
    {
      "cell_type": "code",
      "metadata": {
        "id": "cDE51z3j24Lq",
        "colab_type": "code",
        "outputId": "9703b6e4-fd86-4369-abd3-be3d27ec9683",
        "colab": {
          "base_uri": "https://localhost:8080/",
          "height": 300
        }
      },
      "source": [
        "X, y = mglearn.datasets.make_wave(n_samples=40)\n",
        "plt.plot(X, y, 'o')\n",
        "plt.ylim(-3,3)\n",
        "plt.xlabel(\"특성\")\n",
        "plt.ylabel(\"타깃\")"
      ],
      "execution_count": 0,
      "outputs": [
        {
          "output_type": "execute_result",
          "data": {
            "text/plain": [
              "Text(0, 0.5, '타깃')"
            ]
          },
          "metadata": {
            "tags": []
          },
          "execution_count": 3
        },
        {
          "output_type": "display_data",
          "data": {
            "image/png": "[encoded data removed]",
            "text/plain": [
              "<Figure size 432x288 with 1 Axes>"
            ]
          },
          "metadata": {
            "tags": []
          }
        }
      ]
    },
    {
      "cell_type": "markdown",
      "metadata": {
        "id": "VR51InMkd6UE",
        "colab_type": "text"
      },
      "source": [
        "특성을 x축에 놓고 회귀의 target(label)을 y축에 놓았다."
      ]
    },
    {
      "cell_type": "markdown",
      "metadata": {
        "id": "zrEhZVuyefB-",
        "colab_type": "text"
      },
      "source": [
        "> 인위적인 소규모 dataset 외에 scikit-learn에 들어 있는 실제 dataset도 두 개를 사용할 것이다. 하나는 유방암 종양의 임상 데이터를 기록해놓은 위스콘신 유방암(Wisconsin Breast Cancer) dataset이다."
      ]
    },
    {
      "cell_type": "code",
      "metadata": {
        "id": "PtkyHzri24Lu",
        "colab_type": "code",
        "outputId": "afb98e7c-d23b-4d42-9823-659b4f5db2fa",
        "colab": {
          "base_uri": "https://localhost:8080/",
          "height": 53
        }
      },
      "source": [
        "# 분류용 유방암 데이터\n",
        "from sklearn.datasets import load_breast_cancer\n",
        "cancer = load_breast_cancer()\n",
        "print(\"cancer.keys():\\n\", cancer.keys())"
      ],
      "execution_count": 0,
      "outputs": [
        {
          "output_type": "stream",
          "text": [
            "cancer.keys():\n",
            " dict_keys(['data', 'target', 'target_names', 'DESCR', 'feature_names', 'filename'])\n"
          ],
          "name": "stdout"
        }
      ]
    },
    {
      "cell_type": "code",
      "metadata": {
        "id": "_P0qj3xK24Lz",
        "colab_type": "code",
        "outputId": "79668d6d-6428-43d6-cb19-61f92de87fa8",
        "colab": {
          "base_uri": "https://localhost:8080/",
          "height": 35
        }
      },
      "source": [
        "print(\"유방암 데이터의 형태:\", cancer.data.shape)"
      ],
      "execution_count": 0,
      "outputs": [
        {
          "output_type": "stream",
          "text": [
            "유방암 데이터의 형태: (569, 30)\n"
          ],
          "name": "stdout"
        }
      ]
    },
    {
      "cell_type": "markdown",
      "metadata": {
        "id": "KKMJbqnbe03Z",
        "colab_type": "text"
      },
      "source": [
        "569개의 개체를 가지고 있고 특성은 30개다."
      ]
    },
    {
      "cell_type": "code",
      "metadata": {
        "id": "K1mbr3Jw24L3",
        "colab_type": "code",
        "outputId": "d0ed1dd8-d3d0-4e0c-95a3-a01d2431e92c",
        "colab": {
          "base_uri": "https://localhost:8080/",
          "height": 53
        }
      },
      "source": [
        "print(\"클래스별 샘플 개수:\\n\",\n",
        "      {n: v for n, v in zip(cancer.target_names, np.bincount(cancer.target))})"
      ],
      "execution_count": 0,
      "outputs": [
        {
          "output_type": "stream",
          "text": [
            "클래스별 샘플 개수:\n",
            " {'malignant': 212, 'benign': 357}\n"
          ],
          "name": "stdout"
        }
      ]
    },
    {
      "cell_type": "markdown",
      "metadata": {
        "id": "yYEyOsJWe_CL",
        "colab_type": "text"
      },
      "source": [
        "212개는 악성이고 357개는 양성이다.\n",
        "\n",
        "feature_names를 확인하면 각 특성의 의미를 알 수 있다."
      ]
    },
    {
      "cell_type": "code",
      "metadata": {
        "id": "xbm60_2b24L6",
        "colab_type": "code",
        "outputId": "3519f600-40be-4e01-b943-fb227f3c0803",
        "colab": {
          "base_uri": "https://localhost:8080/",
          "height": 197
        }
      },
      "source": [
        "print(\"특성 이름:\\n\", cancer.feature_names)"
      ],
      "execution_count": 0,
      "outputs": [
        {
          "output_type": "stream",
          "text": [
            "특성 이름:\n",
            " ['mean radius' 'mean texture' 'mean perimeter' 'mean area'\n",
            " 'mean smoothness' 'mean compactness' 'mean concavity'\n",
            " 'mean concave points' 'mean symmetry' 'mean fractal dimension'\n",
            " 'radius error' 'texture error' 'perimeter error' 'area error'\n",
            " 'smoothness error' 'compactness error' 'concavity error'\n",
            " 'concave points error' 'symmetry error' 'fractal dimension error'\n",
            " 'worst radius' 'worst texture' 'worst perimeter' 'worst area'\n",
            " 'worst smoothness' 'worst compactness' 'worst concavity'\n",
            " 'worst concave points' 'worst symmetry' 'worst fractal dimension']\n"
          ],
          "name": "stdout"
        }
      ]
    },
    {
      "cell_type": "markdown",
      "metadata": {
        "id": "Vdeh9l1BfVRR",
        "colab_type": "text"
      },
      "source": [
        "회귀 분석용 실제 dataset으로는 보스턴 주택가격(Boston Housing)이다."
      ]
    },
    {
      "cell_type": "code",
      "metadata": {
        "id": "OwbHTF0L24L-",
        "colab_type": "code",
        "outputId": "2201ac19-c6e9-417b-b772-5deebfa3e07a",
        "colab": {
          "base_uri": "https://localhost:8080/",
          "height": 35
        }
      },
      "source": [
        "# 회귀용 보스턴 주택가격 데이터\n",
        "from sklearn.datasets import load_boston\n",
        "boston = load_boston()\n",
        "print(\"데이터의 형태:\", boston.data.shape)"
      ],
      "execution_count": 0,
      "outputs": [
        {
          "output_type": "stream",
          "text": [
            "데이터의 형태: (506, 13)\n"
          ],
          "name": "stdout"
        }
      ]
    },
    {
      "cell_type": "markdown",
      "metadata": {
        "id": "QbCIn3Hwf1jt",
        "colab_type": "text"
      },
      "source": [
        "13개의 입력 특성뿐 아니라 특성끼리 곱하여 의도적으로 확장한다."
      ]
    },
    {
      "cell_type": "code",
      "metadata": {
        "id": "GYAOKpdc24MC",
        "colab_type": "code",
        "outputId": "6f3cd585-79e9-48c2-c72c-a27be1a8dd09",
        "colab": {
          "base_uri": "https://localhost:8080/",
          "height": 35
        }
      },
      "source": [
        "X,y=mglearn.datasets.load_extended_boston()\n",
        "print(\"X.shape:\", X.shape)"
      ],
      "execution_count": 0,
      "outputs": [
        {
          "output_type": "stream",
          "text": [
            "X.shape: (506, 104)\n"
          ],
          "name": "stdout"
        }
      ]
    }
  ]
}
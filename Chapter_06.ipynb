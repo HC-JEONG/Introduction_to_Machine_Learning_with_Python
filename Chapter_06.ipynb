{
  "nbformat": 4,
  "nbformat_minor": 0,
  "metadata": {
    "colab": {
      "name": "Chapter 06.ipynb",
      "version": "0.3.2",
      "provenance": [],
      "collapsed_sections": [],
      "include_colab_link": true
    },
    "kernelspec": {
      "name": "python3",
      "display_name": "Python 3"
    }
  },
  "cells": [
    {
      "cell_type": "markdown",
      "metadata": {
        "id": "view-in-github",
        "colab_type": "text"
      },
      "source": [
        "<a href=\"https://colab.research.google.com/github/HC-JEONG/Introduction_to_Machine_Learning_with_Python/blob/master/Chapter_06.ipynb\" target=\"_parent\"><img src=\"https://colab.research.google.com/assets/colab-badge.svg\" alt=\"Open In Colab\"/></a>"
      ]
    },
    {
      "cell_type": "markdown",
      "metadata": {
        "id": "iulHJsablM7C",
        "colab_type": "text"
      },
      "source": [
        "# Chapter 6 알고리즘 체인과 파이프라인"
      ]
    },
    {
      "cell_type": "code",
      "metadata": {
        "id": "Mzx7v5mqlKLm",
        "colab_type": "code",
        "outputId": "85d3b048-2260-46eb-d2dd-5a712bc497b8",
        "colab": {
          "base_uri": "https://localhost:8080/",
          "height": 397
        }
      },
      "source": [
        "from IPython.display import display\n",
        "import numpy as np\n",
        "import matplotlib.pyplot as plt\n",
        "import matplotlib as mpl\n",
        "from matplotlib import font_manager as fm\n",
        "from matplotlib import rc\n",
        "%matplotlib inline\n",
        "import pandas as pd\n",
        "!pip install mglearn\n",
        "import mglearn\n",
        "import scipy as sp\n",
        "import sklearn\n",
        "import graphviz\n",
        "\n",
        "#한글, 마이너스 기호 폰트 관련\n",
        "print(mpl.__version__)\n",
        "print(mpl.__file__)\n",
        "print(mpl.get_configdir())\n",
        "print(mpl.get_cachedir())\n",
        "\n",
        "#나눔 폰트 설치\n",
        "!apt-get update -qq\n",
        "!apt-get install fonts-nanum* -qq\n",
        "sys_font=fm.findSystemFonts()\n",
        "nanum_font = [f for f in sys_font if 'Nanum' in f]\n",
        "# 한번 프린트 해보자\n",
        "nanum_font\n",
        "path = '/usr/share/fonts/truetype/nanum/NanumGothicCoding.ttf'\n",
        "font_name = fm.FontProperties(fname=path, size=12).get_name()\n",
        "plt.rc('font', family=font_name)\n",
        "# 우선 fm._rebuild() 를 해주고\n",
        "fm._rebuild()\n",
        "mpl.rcParams['axes.unicode_minus'] = False # 마이너스 기호 오류 해결"
      ],
      "execution_count": 0,
      "outputs": [
        {
          "output_type": "stream",
          "text": [
            "Requirement already satisfied: mglearn in /usr/local/lib/python3.6/dist-packages (0.1.7)\n",
            "Requirement already satisfied: cycler in /usr/local/lib/python3.6/dist-packages (from mglearn) (0.10.0)\n",
            "Requirement already satisfied: pillow in /usr/local/lib/python3.6/dist-packages (from mglearn) (4.3.0)\n",
            "Requirement already satisfied: imageio in /usr/local/lib/python3.6/dist-packages (from mglearn) (2.4.1)\n",
            "Requirement already satisfied: numpy in /usr/local/lib/python3.6/dist-packages (from mglearn) (1.16.4)\n",
            "Requirement already satisfied: pandas in /usr/local/lib/python3.6/dist-packages (from mglearn) (0.24.2)\n",
            "Requirement already satisfied: matplotlib in /usr/local/lib/python3.6/dist-packages (from mglearn) (3.0.3)\n",
            "Requirement already satisfied: scikit-learn in /usr/local/lib/python3.6/dist-packages (from mglearn) (0.21.3)\n",
            "Requirement already satisfied: six in /usr/local/lib/python3.6/dist-packages (from cycler->mglearn) (1.12.0)\n",
            "Requirement already satisfied: olefile in /usr/local/lib/python3.6/dist-packages (from pillow->mglearn) (0.46)\n",
            "Requirement already satisfied: python-dateutil>=2.5.0 in /usr/local/lib/python3.6/dist-packages (from pandas->mglearn) (2.5.3)\n",
            "Requirement already satisfied: pytz>=2011k in /usr/local/lib/python3.6/dist-packages (from pandas->mglearn) (2018.9)\n",
            "Requirement already satisfied: kiwisolver>=1.0.1 in /usr/local/lib/python3.6/dist-packages (from matplotlib->mglearn) (1.1.0)\n",
            "Requirement already satisfied: pyparsing!=2.0.4,!=2.1.2,!=2.1.6,>=2.0.1 in /usr/local/lib/python3.6/dist-packages (from matplotlib->mglearn) (2.4.2)\n",
            "Requirement already satisfied: joblib>=0.11 in /usr/local/lib/python3.6/dist-packages (from scikit-learn->mglearn) (0.13.2)\n",
            "Requirement already satisfied: scipy>=0.17.0 in /usr/local/lib/python3.6/dist-packages (from scikit-learn->mglearn) (1.3.0)\n",
            "Requirement already satisfied: setuptools in /usr/local/lib/python3.6/dist-packages (from kiwisolver>=1.0.1->matplotlib->mglearn) (41.0.1)\n",
            "3.0.3\n",
            "/usr/local/lib/python3.6/dist-packages/matplotlib/__init__.py\n",
            "/root/.config/matplotlib\n",
            "/root/.cache/matplotlib\n"
          ],
          "name": "stdout"
        }
      ]
    },
    {
      "cell_type": "code",
      "metadata": {
        "id": "kf4W8M-zl5cy",
        "colab_type": "code",
        "colab": {}
      },
      "source": [
        "# 데이터를 분할하고 최솟값, 최댓값을 찾아 데이터의 스케일을 바꾸고 SVM을 훈련시키는 코드\n",
        "from sklearn.svm import SVC\n",
        "from sklearn.datasets import load_breast_cancer\n",
        "from sklearn.model_selection import train_test_split\n",
        "from sklearn.preprocessing import MinMaxScaler\n",
        "\n",
        "# 데이터 적재와 분할\n",
        "cancer = load_breast_cancer()\n",
        "X_train, X_test, y_train, y_test = train_test_split(\n",
        "    cancer.data, cancer.target, random_state=0)\n",
        "\n",
        "# 훈련 데이터의 최솟값, 최댓값을 계산합니다.\n",
        "scaler = MinMaxScaler().fit(X_train)"
      ],
      "execution_count": 0,
      "outputs": []
    },
    {
      "cell_type": "code",
      "metadata": {
        "id": "YrNq7pOUnFlx",
        "colab_type": "code",
        "outputId": "e9033e67-0c64-4a74-c203-314ced04fcac",
        "colab": {
          "base_uri": "https://localhost:8080/",
          "height": 88
        }
      },
      "source": [
        "# 훈련 데이터의 스케일을 조정합니다.\n",
        "X_train_scaled = scaler.transform(X_train)\n",
        "\n",
        "svm = SVC()\n",
        "# 스케일 조정된 훈련데이터에 SVM을 학습시킵니다.\n",
        "svm.fit(X_train_scaled, y_train)\n",
        "# 테스트 데이터의 스케일을 조정하고 점수를 계산합니다.\n",
        "X_test_scaled = scaler.transform(X_test)\n",
        "print(\"테스트 점수: {:.2f}\".format(svm.score(X_test_scaled, y_test)))"
      ],
      "execution_count": 0,
      "outputs": [
        {
          "output_type": "stream",
          "text": [
            "테스트 점수: 0.95\n"
          ],
          "name": "stdout"
        },
        {
          "output_type": "stream",
          "text": [
            "/usr/local/lib/python3.6/dist-packages/sklearn/svm/base.py:193: FutureWarning: The default value of gamma will change from 'auto' to 'scale' in version 0.22 to account better for unscaled features. Set gamma explicitly to 'auto' or 'scale' to avoid this warning.\n",
            "  \"avoid this warning.\", FutureWarning)\n"
          ],
          "name": "stderr"
        }
      ]
    },
    {
      "cell_type": "markdown",
      "metadata": {
        "id": "DWtXUExtnaez",
        "colab_type": "text"
      },
      "source": [
        "# 6.1 데이터 전처리와 매개변수 선택"
      ]
    },
    {
      "cell_type": "code",
      "metadata": {
        "id": "G7EX1u19n0eM",
        "colab_type": "code",
        "outputId": "ccc45d1c-791e-4f55-b1f6-138d8cf45fa5",
        "colab": {
          "base_uri": "https://localhost:8080/",
          "height": 68
        }
      },
      "source": [
        "from sklearn.model_selection import GridSearchCV\n",
        "# 이 코드는 예를 위한 것입니다. 실제로 사용하지 마세요.\n",
        "param_grid={'C': [0.001, 0.01, 0.1, 1, 10, 100],\n",
        "            'gamma': [0.001, 0.01, 0.1, 1, 10, 100]}\n",
        "grid = GridSearchCV(SVC(), param_grid=param_grid, cv=5)\n",
        "grid.fit(X_train_scaled, y_train)\n",
        "print(\"최상의 교차 검증 정확도: {:.2f}\".format(grid.best_score_))\n",
        "print(\"테스트 점수: {:.2f}\".format(grid.score(X_test_scaled, y_test)))\n",
        "print(\"최적의 매개변수: \", grid.best_params_)"
      ],
      "execution_count": 0,
      "outputs": [
        {
          "output_type": "stream",
          "text": [
            "최상의 교차 검증 정확도: 0.98\n",
            "테스트 점수: 0.97\n",
            "최적의 매개변수:  {'C': 1, 'gamma': 1}\n"
          ],
          "name": "stdout"
        }
      ]
    },
    {
      "cell_type": "markdown",
      "metadata": {
        "id": "cidbNL3oo7gD",
        "colab_type": "text"
      },
      "source": [
        "> 위 코드는 문제가 있다. 데이터의 최솟값과 최댓값을 계산할 때 모든 데이터를 사용했다. 데이터의 어떤 부분은 training data가 되고 어떤 부분은 validation data가 될텐데 데이터 스케일을 조정할 때 validation data에 들어있는 정보까지 사용한 것이다."
      ]
    },
    {
      "cell_type": "code",
      "metadata": {
        "id": "uzZ4ZONuowi4",
        "colab_type": "code",
        "outputId": "a9bb97f2-2530-4c39-aff7-725571785c2d",
        "colab": {
          "base_uri": "https://localhost:8080/",
          "height": 621
        }
      },
      "source": [
        "mglearn.plots.plot_improper_processing()"
      ],
      "execution_count": 0,
      "outputs": [
        {
          "output_type": "display_data",
          "data": {
            "image/png": "[encoded data removed]",
            "text/plain": [
              "<Figure size 1080x720 with 2 Axes>"
            ]
          },
          "metadata": {
            "tags": []
          }
        }
      ]
    },
    {
      "cell_type": "markdown",
      "metadata": {
        "id": "2aPgpXqSp_64",
        "colab_type": "text"
      },
      "source": [
        "> 교차 검증의 분할이 모든 전처리 과정보다 앞서 이뤄져야 한다.\n",
        "\n",
        "> cross_val_score와 GridSearchCV를 이런 방식으로 구현하려면 Pipeline을 사용하면 된다."
      ]
    },
    {
      "cell_type": "markdown",
      "metadata": {
        "id": "s5buSUfvq8Fy",
        "colab_type": "text"
      },
      "source": [
        "# 6.2 파이프라인 구축하기"
      ]
    },
    {
      "cell_type": "code",
      "metadata": {
        "id": "FIee_QJkrW0S",
        "colab_type": "code",
        "colab": {}
      },
      "source": [
        "# MinMaxScaler로 데이터의 스케일을 조정하고 SVM 모델을 훈련시키는 워크플로(workflow)를 Pipeline을 사용해 표현하기\n",
        "# 각 단계를 리스트로 전달하여 파이프라인 객체를 만든다.\n",
        "\n",
        "from sklearn.pipeline import Pipeline\n",
        "pipe = Pipeline([(\"scaler\", MinMaxScaler()), (\"svm\", SVC())])\n",
        "# scaler라는 MinMaxScaler의 객체, svm이라는 SVC의 객체"
      ],
      "execution_count": 0,
      "outputs": []
    },
    {
      "cell_type": "code",
      "metadata": {
        "id": "PnqkjlCJr2Io",
        "colab_type": "code",
        "outputId": "fbc96648-decc-4cb5-b315-1262da7a87ee",
        "colab": {
          "base_uri": "https://localhost:8080/",
          "height": 225
        }
      },
      "source": [
        "# 파이프라인 fit 매서드 호출\n",
        "pipe.fit(X_train, y_train)\n",
        "# scaler의 fit 메서드를 호출해 훈련 데이터를 변환하고, 변환된 데이터에 svm 모델을 훈련시킨다."
      ],
      "execution_count": 0,
      "outputs": [
        {
          "output_type": "stream",
          "text": [
            "/usr/local/lib/python3.6/dist-packages/sklearn/svm/base.py:193: FutureWarning: The default value of gamma will change from 'auto' to 'scale' in version 0.22 to account better for unscaled features. Set gamma explicitly to 'auto' or 'scale' to avoid this warning.\n",
            "  \"avoid this warning.\", FutureWarning)\n"
          ],
          "name": "stderr"
        },
        {
          "output_type": "execute_result",
          "data": {
            "text/plain": [
              "Pipeline(memory=None,\n",
              "         steps=[('scaler', MinMaxScaler(copy=True, feature_range=(0, 1))),\n",
              "                ('svm',\n",
              "                 SVC(C=1.0, cache_size=200, class_weight=None, coef0=0.0,\n",
              "                     decision_function_shape='ovr', degree=3,\n",
              "                     gamma='auto_deprecated', kernel='rbf', max_iter=-1,\n",
              "                     probability=False, random_state=None, shrinking=True,\n",
              "                     tol=0.001, verbose=False))],\n",
              "         verbose=False)"
            ]
          },
          "metadata": {
            "tags": []
          },
          "execution_count": 8
        }
      ]
    },
    {
      "cell_type": "code",
      "metadata": {
        "id": "HMcy4uO1sEZs",
        "colab_type": "code",
        "outputId": "034e2db7-1025-4b2a-e177-b873bb10e335",
        "colab": {
          "base_uri": "https://localhost:8080/",
          "height": 34
        }
      },
      "source": [
        "print(\"테스트 점수: {:.2f}\".format(pipe.score(X_test, y_test)))\n",
        "# score 메서드를 호출하면 scaler로 테스트 데이터를 변환하고 변환된 데이터에 svm 모델의 score 메서드를 호출"
      ],
      "execution_count": 0,
      "outputs": [
        {
          "output_type": "stream",
          "text": [
            "테스트 점수: 0.95\n"
          ],
          "name": "stdout"
        }
      ]
    },
    {
      "cell_type": "markdown",
      "metadata": {
        "id": "6nIZDwpwsJsF",
        "colab_type": "text"
      },
      "source": [
        "# 6.2 그리드 서치에 파이프라인 적용하기"
      ]
    },
    {
      "cell_type": "markdown",
      "metadata": {
        "id": "iS1mjqD4sakf",
        "colab_type": "text"
      },
      "source": [
        "> 각 매개변수가 파이프라인의 어떤 단계에 속한 것인지 알려줘야 한다.\n",
        "\n",
        "> 파이프라인용 매개변수 그리드는 단계 이름과 매개변수 이름을 \"__\"로 연결해 만든다."
      ]
    },
    {
      "cell_type": "code",
      "metadata": {
        "id": "ZUJvAvMYsv_t",
        "colab_type": "code",
        "colab": {}
      },
      "source": [
        "param_grid = {'svm__C' : [0.001, 0.01, 0.1, 1, 10, 100],\n",
        "              'svm__gamma' : [0.001, 0.01, 0.1, 1, 10, 100]}"
      ],
      "execution_count": 0,
      "outputs": []
    },
    {
      "cell_type": "code",
      "metadata": {
        "id": "TQ5UPYfLs8WP",
        "colab_type": "code",
        "outputId": "857ee66d-a994-4f26-b18c-34e92e77cbf3",
        "colab": {
          "base_uri": "https://localhost:8080/",
          "height": 88
        }
      },
      "source": [
        "grid = GridSearchCV(pipe, param_grid = param_grid, cv=5)\n",
        "grid.fit(X_train, y_train)\n",
        "print(\"최상의 교차 검증 정확도: {:.2f}\".format(grid.best_score_))\n",
        "print(\"테스트 세트 점수: {:.2f}\".format(grid.score(X_test, y_test)))\n",
        "print(\"최적의 매개변수:\", grid.best_params_)"
      ],
      "execution_count": 0,
      "outputs": [
        {
          "output_type": "stream",
          "text": [
            "최상의 교차 검증 정확도: 0.98\n",
            "테스트 세트 점수: 0.97\n",
            "최적의 매개변수: {'svm__C': 1, 'svm__gamma': 1}\n"
          ],
          "name": "stdout"
        }
      ]
    },
    {
      "cell_type": "code",
      "metadata": {
        "id": "oAFC7mOFtSWw",
        "colab_type": "code",
        "outputId": "f361f5e0-4f35-4bf7-88f3-22b72edda19a",
        "colab": {
          "base_uri": "https://localhost:8080/",
          "height": 512
        }
      },
      "source": [
        "mglearn.plots.plot_proper_processing()"
      ],
      "execution_count": 0,
      "outputs": [
        {
          "output_type": "display_data",
          "data": {
            "image/png": "[encoded data removed]",
            "text/plain": [
              "<Figure size 1080x576 with 2 Axes>"
            ]
          },
          "metadata": {
            "tags": []
          }
        }
      ]
    },
    {
      "cell_type": "markdown",
      "metadata": {
        "id": "_k2QAnxGtPOH",
        "colab_type": "text"
      },
      "source": [
        "> validation data를 사용해 데이터의 스케일을 조정하는 경우엔 심각한 문제가 생기지 않지만, 검증 폴드를 이용해 특성을 추출하거나 선택하면 결과가 확연히 달라진다."
      ]
    },
    {
      "cell_type": "markdown",
      "metadata": {
        "id": "ZdHKqZi9uGFf",
        "colab_type": "text"
      },
      "source": [
        "## 정보 누설에 대한 예시"
      ]
    },
    {
      "cell_type": "code",
      "metadata": {
        "id": "-WPFxhi_uD1S",
        "colab_type": "code",
        "colab": {}
      },
      "source": [
        "# 정규분포로부터 독립적으로 추출한 10,000개의 특성을 가진 샘플 100개를 사용한 회귀 문제, 출력값도 정규분포로부터 샘플링.\n",
        "rnd = np.random.RandomState(seed=0)\n",
        "X = rnd.normal(size=(100, 10000))\n",
        "y = rnd.normal(size=(100,))"
      ],
      "execution_count": 0,
      "outputs": []
    },
    {
      "cell_type": "code",
      "metadata": {
        "id": "9S4rMUtlvZwQ",
        "colab_type": "code",
        "outputId": "9fc2697b-ea36-4b3c-8441-218074e085cd",
        "colab": {
          "base_uri": "https://localhost:8080/",
          "height": 34
        }
      },
      "source": [
        "# SelectPercentile로 10,000개 중 가장 유용한 특성을 선택\n",
        "from sklearn.feature_selection import SelectPercentile, f_regression\n",
        "\n",
        "select = SelectPercentile(score_func=f_regression, percentile=5).fit(X, y)\n",
        "X_selected = select.transform(X)\n",
        "print(\"X_selected.shape:\", X_selected.shape)"
      ],
      "execution_count": 0,
      "outputs": [
        {
          "output_type": "stream",
          "text": [
            "X_selected.shape: (100, 500)\n"
          ],
          "name": "stdout"
        }
      ]
    },
    {
      "cell_type": "code",
      "metadata": {
        "id": "rvhFKy_Mvvk6",
        "colab_type": "code",
        "outputId": "79cdb6ed-99cd-457b-ab7a-474255bef137",
        "colab": {
          "base_uri": "https://localhost:8080/",
          "height": 34
        }
      },
      "source": [
        "# 교차 검증을 사용하여 Ridge 회귀 평가\n",
        "from sklearn.model_selection import cross_val_score\n",
        "from sklearn.linear_model import Ridge\n",
        "print(\"교차 검증 점수(리지): {:.2f}\".format(\n",
        "      np.mean(cross_val_score(Ridge(), X_selected, y, cv=5))))"
      ],
      "execution_count": 0,
      "outputs": [
        {
          "output_type": "stream",
          "text": [
            "교차 검증 점수(리지): 0.91\n"
          ],
          "name": "stdout"
        }
      ]
    },
    {
      "cell_type": "code",
      "metadata": {
        "id": "ryeCHuNkwTMq",
        "colab_type": "code",
        "outputId": "75924ce6-e96f-4949-8702-c5b7366a1ebb",
        "colab": {
          "base_uri": "https://localhost:8080/",
          "height": 34
        }
      },
      "source": [
        "# 파이프라인을 사용한 교차 검증과 비교\n",
        "pipe = Pipeline([(\"select\", SelectPercentile(score_func=f_regression,\n",
        "                                             percentile=5)),\n",
        "                 (\"ridge\", Ridge())])\n",
        "print(\"교차 검증 점수(파이프라인): {:.2f}\".format(\n",
        "      np.mean(cross_val_score(pipe, X, y, cv=5))))\n",
        "\n",
        "# 파이프라인을 사용하면 테스트 데이터에서만 특성이 선택되기 때문에 점수가 낮다."
      ],
      "execution_count": 0,
      "outputs": [
        {
          "output_type": "stream",
          "text": [
            "교차 검증 점수(파이프라인): -0.25\n"
          ],
          "name": "stdout"
        }
      ]
    },
    {
      "cell_type": "markdown",
      "metadata": {
        "id": "6QzvdoUGw-Gy",
        "colab_type": "text"
      },
      "source": [
        "# 6.4 파이프라인 인터페이스\n",
        "\n",
        "> 특성 추출, 특성 선택, 스케일 변경,  분류(회귀나 군집) 총 네 단계를 포함하는 파이프라인을 만들 수 있다.\n",
        "\n",
        "> 파이프라인의 추정기는 마지막 단계를 제외하고 모두 transform 메서드를 가지고 있어야 한다.\n",
        "\n",
        "> Pipeline.fit 메서드가 실행되는 동안 각 단계에서 이전 단계의 transform의 출력을 입력으로 받아 fit과 transform 메서드를 차례로 호출한다."
      ]
    },
    {
      "cell_type": "code",
      "metadata": {
        "id": "5T9CwDRgz61k",
        "colab_type": "code",
        "colab": {}
      },
      "source": [
        "def fit(self, X, y):\n",
        "    X_transformed = X\n",
        "    for name, estimator in self.steps[:-1]:\n",
        "        # 마지막 단계를 빼고 fit과 transform을 반복합니다.\n",
        "        X_transformed = estimator.fit_transform(X_transformed, y)\n",
        "    # 마지막 단계 fit을 호출합니다.\n",
        "    self.steps[-1][1].fit(X_transformed, y)\n",
        "    return self"
      ],
      "execution_count": 0,
      "outputs": []
    },
    {
      "cell_type": "code",
      "metadata": {
        "id": "K3FJV0M90Vyp",
        "colab_type": "code",
        "colab": {}
      },
      "source": [
        "def predict(self, X):\n",
        "    X_transformed = X\n",
        "    for step in self.steps[:-1]:\n",
        "        # 마지막 단계를 빼고 transform을 반복합니다.\n",
        "        X_transformed = step[1].transform(X_transformed)\n",
        "    # 마지막 단계 predict를 호출합니다.\n",
        "    return self.steps[-1][1].predict(X_transformed)"
      ],
      "execution_count": 0,
      "outputs": []
    },
    {
      "cell_type": "markdown",
      "metadata": {
        "id": "ZAezkqjr0n05",
        "colab_type": "text"
      },
      "source": [
        "## 6.4.1 make_pipleline을 사용한 파이프라인 생성"
      ]
    },
    {
      "cell_type": "code",
      "metadata": {
        "id": "iFg8YpEq1S5r",
        "colab_type": "code",
        "colab": {}
      },
      "source": [
        "from sklearn.pipeline import make_pipeline\n",
        "# 표준적인 방법\n",
        "pipe_long = Pipeline([(\"scaler\", MinMaxScaler()), (\"svm\", SVC(C=100))])\n",
        "# 간소화된 방법\n",
        "pipe_short = make_pipeline(MinMaxScaler(), SVC(C=100))"
      ],
      "execution_count": 0,
      "outputs": []
    },
    {
      "cell_type": "code",
      "metadata": {
        "id": "a09aBm7n1kkp",
        "colab_type": "code",
        "outputId": "70f179c7-bd36-4b44-907c-6c2aeeb85903",
        "colab": {
          "base_uri": "https://localhost:8080/",
          "height": 123
        }
      },
      "source": [
        "print(\"파이프라인 단계:\\n\", pipe_short.steps)"
      ],
      "execution_count": 0,
      "outputs": [
        {
          "output_type": "stream",
          "text": [
            "파이프라인 단계:\n",
            " [('minmaxscaler', MinMaxScaler(copy=True, feature_range=(0, 1))), ('svc', SVC(C=100, cache_size=200, class_weight=None, coef0=0.0,\n",
            "    decision_function_shape='ovr', degree=3, gamma='auto_deprecated',\n",
            "    kernel='rbf', max_iter=-1, probability=False, random_state=None,\n",
            "    shrinking=True, tol=0.001, verbose=False))]\n"
          ],
          "name": "stdout"
        }
      ]
    },
    {
      "cell_type": "code",
      "metadata": {
        "id": "Cxx3l0sT1ofN",
        "colab_type": "code",
        "outputId": "1a89be79-15b4-435b-b9dc-d0db2d629518",
        "colab": {
          "base_uri": "https://localhost:8080/",
          "height": 88
        }
      },
      "source": [
        "from sklearn.preprocessing import StandardScaler\n",
        "from sklearn.decomposition import PCA\n",
        "\n",
        "pipe = make_pipeline(StandardScaler(), PCA(n_components=2), StandardScaler())\n",
        "print(\"파이프라인 단계:\\n\", pipe.steps)"
      ],
      "execution_count": 0,
      "outputs": [
        {
          "output_type": "stream",
          "text": [
            "파이프라인 단계:\n",
            " [('standardscaler-1', StandardScaler(copy=True, with_mean=True, with_std=True)), ('pca', PCA(copy=True, iterated_power='auto', n_components=2, random_state=None,\n",
            "    svd_solver='auto', tol=0.0, whiten=False)), ('standardscaler-2', StandardScaler(copy=True, with_mean=True, with_std=True))]\n"
          ],
          "name": "stdout"
        }
      ]
    },
    {
      "cell_type": "markdown",
      "metadata": {
        "id": "C-LFH2ZY18Lq",
        "colab_type": "text"
      },
      "source": [
        "## 6.4.2 단계 속성에 접근하기"
      ]
    },
    {
      "cell_type": "code",
      "metadata": {
        "id": "ZQrNAohS15kM",
        "colab_type": "code",
        "outputId": "a18d05ef-444b-4c1e-8652-7c21622e6929",
        "colab": {
          "base_uri": "https://localhost:8080/",
          "height": 34
        }
      },
      "source": [
        "# cancer 데이터셋에 앞서 만든 파이프라인을 적용합니다.\n",
        "pipe.fit(cancer.data)\n",
        "# \"pca\" 단계의 두 개 주성분을 추출합니다.\n",
        "components = pipe.named_steps[\"pca\"].components_\n",
        "print(\"components.shape:\", components.shape)"
      ],
      "execution_count": 0,
      "outputs": [
        {
          "output_type": "stream",
          "text": [
            "components.shape: (2, 30)\n"
          ],
          "name": "stdout"
        }
      ]
    },
    {
      "cell_type": "markdown",
      "metadata": {
        "id": "zDIc2vGp2fWl",
        "colab_type": "text"
      },
      "source": [
        "## 6.4.3 그리드 서치 안의 파이프라인 속성에 접근하기"
      ]
    },
    {
      "cell_type": "code",
      "metadata": {
        "id": "BLRcy01o2reO",
        "colab_type": "code",
        "colab": {}
      },
      "source": [
        "# StandardScaler와 LogisticRegression 분류기로 Pipeline을 만들어 cacner 데이터 셋에 그리드 서치 적용\n",
        "# 먼저 make_pipeline으로 파이프라인 만들기\n",
        "from sklearn.linear_model import LogisticRegression\n",
        "pipe = make_pipeline(StandardScaler(), LogisticRegression())"
      ],
      "execution_count": 0,
      "outputs": []
    },
    {
      "cell_type": "code",
      "metadata": {
        "id": "Q3UUSj9W2-iY",
        "colab_type": "code",
        "colab": {}
      },
      "source": [
        "# 매개변수 그리드\n",
        "param_grid = {'logisticregression__C' : [0.01, 0.1, 1, 10, 100]}"
      ],
      "execution_count": 0,
      "outputs": []
    },
    {
      "cell_type": "code",
      "metadata": {
        "id": "H7sHaJKq3G_-",
        "colab_type": "code",
        "outputId": "69ba1b4d-76eb-44b1-dd04-6253dfc475b2",
        "colab": {
          "base_uri": "https://localhost:8080/",
          "height": 1000
        }
      },
      "source": [
        "# cancer 데이터를 훈련/테스트 세트로 나누고 그리드 서치 적용\n",
        "X_train, X_test, y_train, y_test = train_test_split(\n",
        "    cancer.data, cancer.target, random_state=4)\n",
        "grid = GridSearchCV(pipe, param_grid, cv=5)\n",
        "grid.fit(X_train, y_train)"
      ],
      "execution_count": 0,
      "outputs": [
        {
          "output_type": "stream",
          "text": [
            "/usr/local/lib/python3.6/dist-packages/sklearn/linear_model/logistic.py:432: FutureWarning: Default solver will be changed to 'lbfgs' in 0.22. Specify a solver to silence this warning.\n",
            "  FutureWarning)\n",
            "/usr/local/lib/python3.6/dist-packages/sklearn/linear_model/logistic.py:432: FutureWarning: Default solver will be changed to 'lbfgs' in 0.22. Specify a solver to silence this warning.\n",
            "  FutureWarning)\n",
            "/usr/local/lib/python3.6/dist-packages/sklearn/linear_model/logistic.py:432: FutureWarning: Default solver will be changed to 'lbfgs' in 0.22. Specify a solver to silence this warning.\n",
            "  FutureWarning)\n",
            "/usr/local/lib/python3.6/dist-packages/sklearn/linear_model/logistic.py:432: FutureWarning: Default solver will be changed to 'lbfgs' in 0.22. Specify a solver to silence this warning.\n",
            "  FutureWarning)\n",
            "/usr/local/lib/python3.6/dist-packages/sklearn/linear_model/logistic.py:432: FutureWarning: Default solver will be changed to 'lbfgs' in 0.22. Specify a solver to silence this warning.\n",
            "  FutureWarning)\n",
            "/usr/local/lib/python3.6/dist-packages/sklearn/linear_model/logistic.py:432: FutureWarning: Default solver will be changed to 'lbfgs' in 0.22. Specify a solver to silence this warning.\n",
            "  FutureWarning)\n",
            "/usr/local/lib/python3.6/dist-packages/sklearn/linear_model/logistic.py:432: FutureWarning: Default solver will be changed to 'lbfgs' in 0.22. Specify a solver to silence this warning.\n",
            "  FutureWarning)\n",
            "/usr/local/lib/python3.6/dist-packages/sklearn/linear_model/logistic.py:432: FutureWarning: Default solver will be changed to 'lbfgs' in 0.22. Specify a solver to silence this warning.\n",
            "  FutureWarning)\n",
            "/usr/local/lib/python3.6/dist-packages/sklearn/linear_model/logistic.py:432: FutureWarning: Default solver will be changed to 'lbfgs' in 0.22. Specify a solver to silence this warning.\n",
            "  FutureWarning)\n",
            "/usr/local/lib/python3.6/dist-packages/sklearn/linear_model/logistic.py:432: FutureWarning: Default solver will be changed to 'lbfgs' in 0.22. Specify a solver to silence this warning.\n",
            "  FutureWarning)\n",
            "/usr/local/lib/python3.6/dist-packages/sklearn/linear_model/logistic.py:432: FutureWarning: Default solver will be changed to 'lbfgs' in 0.22. Specify a solver to silence this warning.\n",
            "  FutureWarning)\n",
            "/usr/local/lib/python3.6/dist-packages/sklearn/linear_model/logistic.py:432: FutureWarning: Default solver will be changed to 'lbfgs' in 0.22. Specify a solver to silence this warning.\n",
            "  FutureWarning)\n",
            "/usr/local/lib/python3.6/dist-packages/sklearn/linear_model/logistic.py:432: FutureWarning: Default solver will be changed to 'lbfgs' in 0.22. Specify a solver to silence this warning.\n",
            "  FutureWarning)\n",
            "/usr/local/lib/python3.6/dist-packages/sklearn/linear_model/logistic.py:432: FutureWarning: Default solver will be changed to 'lbfgs' in 0.22. Specify a solver to silence this warning.\n",
            "  FutureWarning)\n",
            "/usr/local/lib/python3.6/dist-packages/sklearn/linear_model/logistic.py:432: FutureWarning: Default solver will be changed to 'lbfgs' in 0.22. Specify a solver to silence this warning.\n",
            "  FutureWarning)\n",
            "/usr/local/lib/python3.6/dist-packages/sklearn/linear_model/logistic.py:432: FutureWarning: Default solver will be changed to 'lbfgs' in 0.22. Specify a solver to silence this warning.\n",
            "  FutureWarning)\n",
            "/usr/local/lib/python3.6/dist-packages/sklearn/linear_model/logistic.py:432: FutureWarning: Default solver will be changed to 'lbfgs' in 0.22. Specify a solver to silence this warning.\n",
            "  FutureWarning)\n",
            "/usr/local/lib/python3.6/dist-packages/sklearn/linear_model/logistic.py:432: FutureWarning: Default solver will be changed to 'lbfgs' in 0.22. Specify a solver to silence this warning.\n",
            "  FutureWarning)\n",
            "/usr/local/lib/python3.6/dist-packages/sklearn/linear_model/logistic.py:432: FutureWarning: Default solver will be changed to 'lbfgs' in 0.22. Specify a solver to silence this warning.\n",
            "  FutureWarning)\n",
            "/usr/local/lib/python3.6/dist-packages/sklearn/linear_model/logistic.py:432: FutureWarning: Default solver will be changed to 'lbfgs' in 0.22. Specify a solver to silence this warning.\n",
            "  FutureWarning)\n",
            "/usr/local/lib/python3.6/dist-packages/sklearn/linear_model/logistic.py:432: FutureWarning: Default solver will be changed to 'lbfgs' in 0.22. Specify a solver to silence this warning.\n",
            "  FutureWarning)\n",
            "/usr/local/lib/python3.6/dist-packages/sklearn/linear_model/logistic.py:432: FutureWarning: Default solver will be changed to 'lbfgs' in 0.22. Specify a solver to silence this warning.\n",
            "  FutureWarning)\n",
            "/usr/local/lib/python3.6/dist-packages/sklearn/linear_model/logistic.py:432: FutureWarning: Default solver will be changed to 'lbfgs' in 0.22. Specify a solver to silence this warning.\n",
            "  FutureWarning)\n",
            "/usr/local/lib/python3.6/dist-packages/sklearn/linear_model/logistic.py:432: FutureWarning: Default solver will be changed to 'lbfgs' in 0.22. Specify a solver to silence this warning.\n",
            "  FutureWarning)\n",
            "/usr/local/lib/python3.6/dist-packages/sklearn/linear_model/logistic.py:432: FutureWarning: Default solver will be changed to 'lbfgs' in 0.22. Specify a solver to silence this warning.\n",
            "  FutureWarning)\n",
            "/usr/local/lib/python3.6/dist-packages/sklearn/linear_model/logistic.py:432: FutureWarning: Default solver will be changed to 'lbfgs' in 0.22. Specify a solver to silence this warning.\n",
            "  FutureWarning)\n"
          ],
          "name": "stderr"
        },
        {
          "output_type": "execute_result",
          "data": {
            "text/plain": [
              "GridSearchCV(cv=5, error_score='raise-deprecating',\n",
              "             estimator=Pipeline(memory=None,\n",
              "                                steps=[('standardscaler',\n",
              "                                        StandardScaler(copy=True,\n",
              "                                                       with_mean=True,\n",
              "                                                       with_std=True)),\n",
              "                                       ('logisticregression',\n",
              "                                        LogisticRegression(C=1.0,\n",
              "                                                           class_weight=None,\n",
              "                                                           dual=False,\n",
              "                                                           fit_intercept=True,\n",
              "                                                           intercept_scaling=1,\n",
              "                                                           l1_ratio=None,\n",
              "                                                           max_iter=100,\n",
              "                                                           multi_class='warn',\n",
              "                                                           n_jobs=None,\n",
              "                                                           penalty='l2',\n",
              "                                                           random_state=None,\n",
              "                                                           solver='warn',\n",
              "                                                           tol=0.0001,\n",
              "                                                           verbose=0,\n",
              "                                                           warm_start=False))],\n",
              "                                verbose=False),\n",
              "             iid='warn', n_jobs=None,\n",
              "             param_grid={'logisticregression__C': [0.01, 0.1, 1, 10, 100]},\n",
              "             pre_dispatch='2*n_jobs', refit=True, return_train_score=False,\n",
              "             scoring=None, verbose=0)"
            ]
          },
          "metadata": {
            "tags": []
          },
          "execution_count": 25
        }
      ]
    },
    {
      "cell_type": "code",
      "metadata": {
        "id": "PVmAjkgJ3Von",
        "colab_type": "code",
        "outputId": "23be7c03-9db6-41c6-add8-d7e959c3489b",
        "colab": {
          "base_uri": "https://localhost:8080/",
          "height": 260
        }
      },
      "source": [
        "print(\"최상의 모델:\\n\", grid.best_estimator_)"
      ],
      "execution_count": 0,
      "outputs": [
        {
          "output_type": "stream",
          "text": [
            "최상의 모델:\n",
            " Pipeline(memory=None,\n",
            "         steps=[('standardscaler',\n",
            "                 StandardScaler(copy=True, with_mean=True, with_std=True)),\n",
            "                ('logisticregression',\n",
            "                 LogisticRegression(C=0.1, class_weight=None, dual=False,\n",
            "                                    fit_intercept=True, intercept_scaling=1,\n",
            "                                    l1_ratio=None, max_iter=100,\n",
            "                                    multi_class='warn', n_jobs=None,\n",
            "                                    penalty='l2', random_state=None,\n",
            "                                    solver='warn', tol=0.0001, verbose=0,\n",
            "                                    warm_start=False))],\n",
            "         verbose=False)\n"
          ],
          "name": "stdout"
        }
      ]
    },
    {
      "cell_type": "code",
      "metadata": {
        "id": "83usDCDs3w1V",
        "colab_type": "code",
        "outputId": "d6ebd286-ff6d-42e6-e853-466fa4bf82e9",
        "colab": {
          "base_uri": "https://localhost:8080/",
          "height": 140
        }
      },
      "source": [
        "print(\"로지스틱 회귀 단계:\\n\",\n",
        "      grid.best_estimator_.named_steps[\"logisticregression\"])"
      ],
      "execution_count": 0,
      "outputs": [
        {
          "output_type": "stream",
          "text": [
            "로지스틱 회귀 단계:\n",
            " LogisticRegression(C=0.1, class_weight=None, dual=False, fit_intercept=True,\n",
            "                   intercept_scaling=1, l1_ratio=None, max_iter=100,\n",
            "                   multi_class='warn', n_jobs=None, penalty='l2',\n",
            "                   random_state=None, solver='warn', tol=0.0001, verbose=0,\n",
            "                   warm_start=False)\n"
          ],
          "name": "stdout"
        }
      ]
    },
    {
      "cell_type": "code",
      "metadata": {
        "id": "T9D7brho4FHx",
        "colab_type": "code",
        "outputId": "8d527666-3f6b-4766-d07d-9bfd9da1b546",
        "colab": {
          "base_uri": "https://localhost:8080/",
          "height": 140
        }
      },
      "source": [
        "print(\"로지스틱 회귀 계수:\\n\",\n",
        "      grid.best_estimator_.named_steps[\"logisticregression\"].coef_)"
      ],
      "execution_count": 0,
      "outputs": [
        {
          "output_type": "stream",
          "text": [
            "로지스틱 회귀 계수:\n",
            " [[-0.38856355 -0.37529972 -0.37624793 -0.39649439 -0.11519359  0.01709608\n",
            "  -0.3550729  -0.38995414 -0.05780518  0.20879795 -0.49487753 -0.0036321\n",
            "  -0.37122718 -0.38337777 -0.04488715  0.19752816  0.00424822 -0.04857196\n",
            "   0.21023226  0.22444999 -0.54669761 -0.52542026 -0.49881157 -0.51451071\n",
            "  -0.39256847 -0.12293451 -0.38827425 -0.4169485  -0.32533663 -0.13926972]]\n"
          ],
          "name": "stdout"
        }
      ]
    },
    {
      "cell_type": "markdown",
      "metadata": {
        "id": "wJ9DzAKC4Ogm",
        "colab_type": "text"
      },
      "source": [
        "# 6.5 전처리와 모델의 매개변수를 위한 그리드 서치\n",
        "\n",
        "> 파이프라인을 사용하면\n",
        "\n",
        "> 머신러닝 워크플로에 필요한 모든 처리 단계를 하나의 scikit-learn 추정기로 캡슐화 할 수 있다.\n",
        "\n",
        "> 회귀와 분류 같은 지도 학습의 출력을 이용해서 전처리 매개변수를 조정할 수 있다."
      ]
    },
    {
      "cell_type": "code",
      "metadata": {
        "id": "atCTo-TE0SSN",
        "colab_type": "code",
        "colab": {}
      },
      "source": [
        "from sklearn.datasets import load_boston\n",
        "boston = load_boston()\n",
        "X_train, X_test, y_train, y_test = train_test_split(boston.data, boston.target,\n",
        "                                                    random_state=0)\n",
        "\n",
        "from sklearn.preprocessing import PolynomialFeatures\n",
        "pipe = make_pipeline(\n",
        "    StandardScaler(),\n",
        "    PolynomialFeatures(),\n",
        "    Ridge())"
      ],
      "execution_count": 0,
      "outputs": []
    },
    {
      "cell_type": "code",
      "metadata": {
        "id": "Lz8XfQOt5HQS",
        "colab_type": "code",
        "colab": {}
      },
      "source": [
        "param_grid = {'polynomialfeatures__degree': [1,2,3],\n",
        "              'ridge__alpha': [0.001, 0.01, 0.1, 1, 10, 100]}"
      ],
      "execution_count": 0,
      "outputs": []
    },
    {
      "cell_type": "code",
      "metadata": {
        "id": "IaKl-oe05SC_",
        "colab_type": "code",
        "outputId": "47494585-df61-456d-daa4-2176cd60d891",
        "colab": {
          "base_uri": "https://localhost:8080/",
          "height": 465
        }
      },
      "source": [
        "grid = GridSearchCV(pipe, param_grid = param_grid, cv=5, n_jobs=-1)\n",
        "grid.fit(X_train, y_train)"
      ],
      "execution_count": 0,
      "outputs": [
        {
          "output_type": "stream",
          "text": [
            "/usr/local/lib/python3.6/dist-packages/sklearn/model_selection/_search.py:814: DeprecationWarning: The default of the `iid` parameter will change from True to False in version 0.22 and will be removed in 0.24. This will change numeric results when test-set sizes are unequal.\n",
            "  DeprecationWarning)\n"
          ],
          "name": "stderr"
        },
        {
          "output_type": "execute_result",
          "data": {
            "text/plain": [
              "GridSearchCV(cv=5, error_score='raise-deprecating',\n",
              "             estimator=Pipeline(memory=None,\n",
              "                                steps=[('standardscaler',\n",
              "                                        StandardScaler(copy=True,\n",
              "                                                       with_mean=True,\n",
              "                                                       with_std=True)),\n",
              "                                       ('polynomialfeatures',\n",
              "                                        PolynomialFeatures(degree=2,\n",
              "                                                           include_bias=True,\n",
              "                                                           interaction_only=False,\n",
              "                                                           order='C')),\n",
              "                                       ('ridge',\n",
              "                                        Ridge(alpha=1.0, copy_X=True,\n",
              "                                              fit_intercept=True, max_iter=None,\n",
              "                                              normalize=False,\n",
              "                                              random_state=None, solver='auto',\n",
              "                                              tol=0.001))],\n",
              "                                verbose=False),\n",
              "             iid='warn', n_jobs=-1,\n",
              "             param_grid={'polynomialfeatures__degree': [1, 2, 3],\n",
              "                         'ridge__alpha': [0.001, 0.01, 0.1, 1, 10, 100]},\n",
              "             pre_dispatch='2*n_jobs', refit=True, return_train_score=False,\n",
              "             scoring=None, verbose=0)"
            ]
          },
          "metadata": {
            "tags": []
          },
          "execution_count": 31
        }
      ]
    },
    {
      "cell_type": "code",
      "metadata": {
        "id": "3CMHnWx15ZFb",
        "colab_type": "code",
        "outputId": "81ec40a5-3066-4ba7-980e-471a1600a9d9",
        "colab": {
          "base_uri": "https://localhost:8080/",
          "height": 268
        }
      },
      "source": [
        "mglearn.tools.heatmap(grid.cv_results_['mean_test_score'].reshape(3,-1),\n",
        "                      xlabel=\"ridge__alpha\", ylabel=\"polynomialfeatures__degree\",\n",
        "                     xticklabels=param_grid['ridge__alpha'],\n",
        "                     yticklabels=param_grid['polynomialfeatures__degree'], vmin=0)"
      ],
      "execution_count": 0,
      "outputs": [
        {
          "output_type": "execute_result",
          "data": {
            "text/plain": [
              "<matplotlib.collections.PolyCollection at 0x7f1a64b729e8>"
            ]
          },
          "metadata": {
            "tags": []
          },
          "execution_count": 32
        },
        {
          "output_type": "display_data",
          "data": {
            "image/png": "[encoded data removed]",
            "text/plain": [
              "<Figure size 432x288 with 1 Axes>"
            ]
          },
          "metadata": {
            "tags": []
          }
        }
      ]
    },
    {
      "cell_type": "code",
      "metadata": {
        "id": "RuSuE3z-5vSS",
        "colab_type": "code",
        "outputId": "0daf5ed0-6cd2-4913-af85-73c4ca88abdf",
        "colab": {
          "base_uri": "https://localhost:8080/",
          "height": 54
        }
      },
      "source": [
        "print(\"최적의 매개변수:\", grid.best_params_)"
      ],
      "execution_count": 0,
      "outputs": [
        {
          "output_type": "stream",
          "text": [
            "최적의 매개변수: {'polynomialfeatures__degree': 2, 'ridge__alpha': 10}\n"
          ],
          "name": "stdout"
        }
      ]
    },
    {
      "cell_type": "code",
      "metadata": {
        "id": "QXldDRRp54d9",
        "colab_type": "code",
        "outputId": "7fe9bf59-04be-4bac-ecc3-7bbf9c0428f1",
        "colab": {
          "base_uri": "https://localhost:8080/",
          "height": 34
        }
      },
      "source": [
        "print(\"테스트 세트 점수: {:.2f}\".format(grid.score(X_test, y_test)))\n"
      ],
      "execution_count": 0,
      "outputs": [
        {
          "output_type": "stream",
          "text": [
            "테스트 세트 점수: 0.77\n"
          ],
          "name": "stdout"
        }
      ]
    },
    {
      "cell_type": "code",
      "metadata": {
        "id": "zZWKS0EP5_ID",
        "colab_type": "code",
        "outputId": "246343ce-0cc8-42c4-cad9-0474b2b52c37",
        "colab": {
          "base_uri": "https://localhost:8080/",
          "height": 88
        }
      },
      "source": [
        "param_grid = {'ridge__alpha': [0.001, 0.01, 0.1, 1, 10, 100]}\n",
        "pipe = make_pipeline(StandardScaler(), Ridge())\n",
        "grid = GridSearchCV(pipe, param_grid, cv=5)\n",
        "grid.fit(X_train, y_train)\n",
        "print(\"다항 특성이 없을 때 점수: {:.2f}\".format(grid.score(X_test, y_test)))"
      ],
      "execution_count": 0,
      "outputs": [
        {
          "output_type": "stream",
          "text": [
            "다항 특성이 없을 때 점수: 0.63\n"
          ],
          "name": "stdout"
        },
        {
          "output_type": "stream",
          "text": [
            "/usr/local/lib/python3.6/dist-packages/sklearn/model_selection/_search.py:814: DeprecationWarning: The default of the `iid` parameter will change from True to False in version 0.22 and will be removed in 0.24. This will change numeric results when test-set sizes are unequal.\n",
            "  DeprecationWarning)\n"
          ],
          "name": "stderr"
        }
      ]
    },
    {
      "cell_type": "markdown",
      "metadata": {
        "id": "bxzjitnR6SUY",
        "colab_type": "text"
      },
      "source": [
        "# 6.6 모델 선택을 위한 그리드 서치"
      ]
    },
    {
      "cell_type": "code",
      "metadata": {
        "id": "JBT0Yba36QD-",
        "colab_type": "code",
        "colab": {}
      },
      "source": [
        "pipe = Pipeline([('preprocessing', StandardScaler()), ('classifier', SVC())])"
      ],
      "execution_count": 0,
      "outputs": []
    },
    {
      "cell_type": "code",
      "metadata": {
        "id": "TU5cDj3N7Tpg",
        "colab_type": "code",
        "colab": {}
      },
      "source": [
        "from sklearn.ensemble import RandomForestClassifier\n",
        "\n",
        "param_grid = [\n",
        "    {'classifier': [SVC()], 'preprocessing': [StandardScaler()],\n",
        "     'classifier__gamma' : [0.001, 0.01, 0.1, 1, 10, 100],\n",
        "     'classifier__C' : [0.001, 0.01, 0.1, 1, 10, 100]},\n",
        "    {'classifier' : [RandomForestClassifier(n_estimators=100)],\n",
        "    'preprocessing' : [None], 'classifier__max_features': [1,2,3]}]"
      ],
      "execution_count": 0,
      "outputs": []
    },
    {
      "cell_type": "code",
      "metadata": {
        "id": "Gdsg-piX72MX",
        "colab_type": "code",
        "outputId": "ab50da33-da9b-48ad-d827-ea499740ea8c",
        "colab": {
          "base_uri": "https://localhost:8080/",
          "height": 174
        }
      },
      "source": [
        "X_train, X_test, y_train, y_test = train_test_split(\n",
        "    cancer.data, cancer.target, random_state=0)\n",
        "grid = GridSearchCV(pipe, param_grid, cv=5)\n",
        "grid.fit(X_train, y_train)\n",
        "\n",
        "print(\"최적의 매개변수:\\n{}\\n\".format(grid.best_params_))\n",
        "print(\"최상의 교차 검증 점수: {:.2f}\".format(grid.best_score_))\n",
        "print(\"테스트 세트 점수: {:.2f}\".format(grid.score(X_test, y_test)))"
      ],
      "execution_count": 0,
      "outputs": [
        {
          "output_type": "stream",
          "text": [
            "최적의 매개변수:\n",
            "{'classifier': SVC(C=10, cache_size=200, class_weight=None, coef0=0.0,\n",
            "    decision_function_shape='ovr', degree=3, gamma=0.01, kernel='rbf',\n",
            "    max_iter=-1, probability=False, random_state=None, shrinking=True,\n",
            "    tol=0.001, verbose=False), 'classifier__C': 10, 'classifier__gamma': 0.01, 'preprocessing': StandardScaler(copy=True, with_mean=True, with_std=True)}\n",
            "\n",
            "최상의 교차 검증 점수: 0.99\n",
            "테스트 세트 점수: 0.98\n"
          ],
          "name": "stdout"
        }
      ]
    },
    {
      "cell_type": "markdown",
      "metadata": {
        "id": "W8TcVtZu8Yqc",
        "colab_type": "text"
      },
      "source": [
        "## 6.6.1 중복 계산 피하기"
      ]
    },
    {
      "cell_type": "code",
      "metadata": {
        "id": "er9O-gAkA-S1",
        "colab_type": "code",
        "colab": {}
      },
      "source": [
        "pipe =Pipeline([('preprocessing', StandardScaler()), ('classifier', SVC())],\n",
        "               memory=\"cache_folder\")"
      ],
      "execution_count": 0,
      "outputs": []
    },
    {
      "cell_type": "markdown",
      "metadata": {
        "id": "-ZKU7IsqBHL2",
        "colab_type": "text"
      },
      "source": [
        "# 6.7 요약 및 정리\n",
        "\n",
        "> 실제 머신러닝 어플리케이션에서는 모델을 단독으로 사용하는 경우가 거의 없고, 여러 처리 단계가 연속해서 이뤄진다.\n",
        "\n",
        "> 파이프라인은 여러 단계를 하나의 파이썬 객체로 캡슐화해주고 fit, predict, transform 인터페이스를 사용할 수 있다.\n",
        "\n",
        "> 교차 검증을 사용하여 모델을 평가하고 그리드 서치를 사용하여 매개변수 선택을 할 때 모든 처리 단계를 Pipeline으로 묶는 것은 올바른 평가를 위해 필수적이다.\n"
      ]
    }
  ]
}
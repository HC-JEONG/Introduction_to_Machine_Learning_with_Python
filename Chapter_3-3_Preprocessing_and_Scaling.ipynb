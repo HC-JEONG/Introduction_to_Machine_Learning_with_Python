{
  "nbformat": 4,
  "nbformat_minor": 0,
  "metadata": {
    "colab": {
      "name": "Chapter 3.3.ipynb",
      "version": "0.3.2",
      "provenance": [],
      "collapsed_sections": [],
      "toc_visible": true,
      "include_colab_link": true
    },
    "kernelspec": {
      "name": "python3",
      "display_name": "Python 3"
    }
  },
  "cells": [
    {
      "cell_type": "markdown",
      "metadata": {
        "id": "view-in-github",
        "colab_type": "text"
      },
      "source": [
        "<a href=\"https://colab.research.google.com/github/HC-JEONG/Introduction_to_Machine_Learning_with_Python/blob/master/Chapter_3-3_Preprocessing_and_Scaling.ipynb\" target=\"_parent\"><img src=\"https://colab.research.google.com/assets/colab-badge.svg\" alt=\"Open In Colab\"/></a>"
      ]
    },
    {
      "cell_type": "markdown",
      "metadata": {
        "id": "RfOgEUMF15DU",
        "colab_type": "text"
      },
      "source": [
        "# 3.3 데이터 전처리와 스케일 조정\n",
        "\n",
        "> 신경망과 SVM 같은 알고리즘은 데이터의 스케일에 매우 민감하다. 그래서 보통 이런 알고리즘들에 맞게 특성마다 스케일을 조정해서 데이터를 변경한다."
      ]
    },
    {
      "cell_type": "code",
      "metadata": {
        "id": "d4ZaBiee1-xC",
        "colab_type": "code",
        "outputId": "8844f0b4-3a02-4756-d658-c7591087e8b4",
        "colab": {
          "base_uri": "https://localhost:8080/",
          "height": 341
        }
      },
      "source": [
        "import numpy as np\n",
        "import pandas as pd\n",
        "import matplotlib.pyplot as plt\n",
        "import matplotlib as mpl\n",
        "from matplotlib import font_manager as fm\n",
        "from matplotlib import rc\n",
        "%matplotlib inline\n",
        "import pandas as pd\n",
        "!pip install mglearn\n",
        "import mglearn\n",
        "import scipy as sp\n",
        "import sklearn\n",
        "import graphviz\n",
        "from IPython.display import display\n",
        "from sklearn.pipeline import make_pipeline\n",
        "from google.colab import files\n",
        "import io\n",
        "\n",
        "!apt-get update -qq\n",
        "!apt-get install fonts-nanum* -qq\n",
        "sys_font=fm.findSystemFonts()\n",
        "nanum_font = [f for f in sys_font if 'Nanum' in f]\n",
        "nanum_font\n",
        "path = '/usr/share/fonts/truetype/nanum/NanumGothicEco.ttf'\n",
        "\n",
        "font_name = fm.FontProperties(fname=path, size=10).get_name()\n",
        "print(font_name)\n",
        "\n",
        "plt.rc('font', family=font_name)\n",
        "mpl.rcParams['axes.unicode_minus'] = False\n",
        "\n",
        "fm._rebuild()"
      ],
      "execution_count": 0,
      "outputs": [
        {
          "output_type": "stream",
          "text": [
            "Requirement already satisfied: mglearn in /usr/local/lib/python3.6/dist-packages (0.1.7)\n",
            "Requirement already satisfied: matplotlib in /usr/local/lib/python3.6/dist-packages (from mglearn) (3.0.3)\n",
            "Requirement already satisfied: pandas in /usr/local/lib/python3.6/dist-packages (from mglearn) (0.24.2)\n",
            "Requirement already satisfied: cycler in /usr/local/lib/python3.6/dist-packages (from mglearn) (0.10.0)\n",
            "Requirement already satisfied: pillow in /usr/local/lib/python3.6/dist-packages (from mglearn) (4.3.0)\n",
            "Requirement already satisfied: imageio in /usr/local/lib/python3.6/dist-packages (from mglearn) (2.4.1)\n",
            "Requirement already satisfied: numpy in /usr/local/lib/python3.6/dist-packages (from mglearn) (1.16.4)\n",
            "Requirement already satisfied: scikit-learn in /usr/local/lib/python3.6/dist-packages (from mglearn) (0.21.3)\n",
            "Requirement already satisfied: pyparsing!=2.0.4,!=2.1.2,!=2.1.6,>=2.0.1 in /usr/local/lib/python3.6/dist-packages (from matplotlib->mglearn) (2.4.2)\n",
            "Requirement already satisfied: python-dateutil>=2.1 in /usr/local/lib/python3.6/dist-packages (from matplotlib->mglearn) (2.5.3)\n",
            "Requirement already satisfied: kiwisolver>=1.0.1 in /usr/local/lib/python3.6/dist-packages (from matplotlib->mglearn) (1.1.0)\n",
            "Requirement already satisfied: pytz>=2011k in /usr/local/lib/python3.6/dist-packages (from pandas->mglearn) (2018.9)\n",
            "Requirement already satisfied: six in /usr/local/lib/python3.6/dist-packages (from cycler->mglearn) (1.12.0)\n",
            "Requirement already satisfied: olefile in /usr/local/lib/python3.6/dist-packages (from pillow->mglearn) (0.46)\n",
            "Requirement already satisfied: scipy>=0.17.0 in /usr/local/lib/python3.6/dist-packages (from scikit-learn->mglearn) (1.3.1)\n",
            "Requirement already satisfied: joblib>=0.11 in /usr/local/lib/python3.6/dist-packages (from scikit-learn->mglearn) (0.13.2)\n",
            "Requirement already satisfied: setuptools in /usr/local/lib/python3.6/dist-packages (from kiwisolver>=1.0.1->matplotlib->mglearn) (41.2.0)\n",
            "NanumGothic Eco\n"
          ],
          "name": "stdout"
        }
      ]
    },
    {
      "cell_type": "code",
      "metadata": {
        "id": "Mv_nceYP2Qkl",
        "colab_type": "code",
        "outputId": "f2abe9e0-046f-4f84-cde8-5b3b497c15ef",
        "colab": {
          "base_uri": "https://localhost:8080/",
          "height": 486
        }
      },
      "source": [
        "# 스케일 조정의 간단한 예\n",
        "mglearn.plots.plot_scaling()"
      ],
      "execution_count": 0,
      "outputs": [
        {
          "output_type": "display_data",
          "data": {
            "image/png": "[encoded data removed]",
            "text/plain": [
              "<Figure size 1080x576 with 5 Axes>"
            ]
          },
          "metadata": {
            "tags": []
          }
        }
      ]
    },
    {
      "cell_type": "markdown",
      "metadata": {
        "id": "b3Q9RkHF3XvU",
        "colab_type": "text"
      },
      "source": [
        "## 3.3.1 여러 가지 전처리 방법\n",
        "\n",
        "*   StandardScaler : 각 특성의 평균을 0, 분산을 1로 변경하여 모든 특성이 같은 크기를 가지게 한다(기존에 알고 있는 z-score). 특성의 최솟값과 최댓값 크기를 제한하지 않는다.\n",
        "\n",
        "\n",
        "*   RobustScaler : 특성들이 같은 스케일을 갖게 된다는 점에서 StandardScaler와 같지만 중간 값(median)과 사분위 값(quartile)을 사용하기 때문에, 전체 데이터와 아주 동떨어진 데이터 포인트(예를 들면, 측정 에러)(outlier)에 영향을 받지 않는다.\n",
        "\n",
        "\n",
        "*   MinMaxScaler : 모든 특성이 정확하게 0과 1사이에 위치하도록 데이터를 변경한다.\n",
        "\n",
        "\n",
        "*   Normalizer : 특성 벡터의 유클리디안 길이가 1이 되도록 데이터 포인트를 조정한다. 각 데이터 포인트가 다른 비율로(길이에 반비례하여) 스케일이 조정된다는 뜻으로 이러한 정규화(normalization)는 특성 벡터의 길이는 상관 없고 데이터의 방향 (또는 각도)만이 중요할 때 많이 사용한다.\n",
        "\n",
        "\n",
        "\n",
        "\n",
        "\n",
        "\n",
        "\n",
        "\n"
      ]
    },
    {
      "cell_type": "markdown",
      "metadata": {
        "id": "STH2WPIi6cci",
        "colab_type": "text"
      },
      "source": [
        "## 3.3.2 데이터 변환 적용하기\n",
        "\n",
        "\n",
        "> 스케일을 조정하는 전처리 메서드들은 보통 지도 학습 알고리즘을 적용하기 전에 적용한다.\n",
        "\n"
      ]
    },
    {
      "cell_type": "code",
      "metadata": {
        "id": "M6Fjhmmj6sKo",
        "colab_type": "code",
        "outputId": "a76cc54e-94eb-497e-ac0b-70ae5557265f",
        "colab": {
          "base_uri": "https://localhost:8080/",
          "height": 53
        }
      },
      "source": [
        "# cancer dataset에 SVM(SVC)을 적용하고 데이터 전처리에는 MinMaxScaler를 사용\n",
        "\n",
        "# 예제를 풀어보기 위해 cancer dataset을 split한다.\n",
        "from sklearn.datasets import load_breast_cancer\n",
        "from sklearn.model_selection import train_test_split\n",
        "cancer=load_breast_cancer()\n",
        "\n",
        "X_train, X_test, y_train, y_test = train_test_split(cancer.data, cancer.target,\n",
        "                                                    random_state=1)\n",
        "print(X_train.shape)\n",
        "print(X_test.shape)"
      ],
      "execution_count": 0,
      "outputs": [
        {
          "output_type": "stream",
          "text": [
            "(426, 30)\n",
            "(143, 30)\n"
          ],
          "name": "stdout"
        }
      ]
    },
    {
      "cell_type": "code",
      "metadata": {
        "id": "PCBMkym3-w9Z",
        "colab_type": "code",
        "colab": {}
      },
      "source": [
        "# 전처리가 구현된 파이썬 클래스를 임포트하고 객체를 생성\n",
        "from sklearn.preprocessing import MinMaxScaler\n",
        "\n",
        "scaler=MinMaxScaler()"
      ],
      "execution_count": 0,
      "outputs": []
    },
    {
      "cell_type": "markdown",
      "metadata": {
        "id": "RcCgvgbd6oNK",
        "colab_type": "text"
      },
      "source": [
        "> scaler 객체는 fit 메서드를 호출할 때 X_train만 넘겨주고 y_train은 사용하지 않는다."
      ]
    },
    {
      "cell_type": "code",
      "metadata": {
        "id": "g7_B04j-BAdB",
        "colab_type": "code",
        "outputId": "a3fca725-499e-405f-81f1-0822c3d4c784",
        "colab": {
          "base_uri": "https://localhost:8080/",
          "height": 35
        }
      },
      "source": [
        "scaler.fit(X_train)"
      ],
      "execution_count": 0,
      "outputs": [
        {
          "output_type": "execute_result",
          "data": {
            "text/plain": [
              "MinMaxScaler(copy=True, feature_range=(0, 1))"
            ]
          },
          "metadata": {
            "tags": []
          },
          "execution_count": 7
        }
      ]
    },
    {
      "cell_type": "markdown",
      "metadata": {
        "id": "qCTcv9Vt63Wd",
        "colab_type": "text"
      },
      "source": [
        "> fit 메서드로 학습한 변환을 적용하려면, 즉 실제로 training set의 스케일을 조정하려면 scaler 객체의 transform 메서드를 사용한다. scikit-learn에서 transform은 새로운 데이터 표현(representation)을 만들 때 사용하는 메서드다."
      ]
    },
    {
      "cell_type": "code",
      "metadata": {
        "id": "M-LAt_o0HVxn",
        "colab_type": "code",
        "outputId": "e56a2904-f362-4273-f356-6b683f69d487",
        "colab": {
          "base_uri": "https://localhost:8080/",
          "height": 359
        }
      },
      "source": [
        "# 데이터 변환\n",
        "X_train_scaled = scaler.transform(X_train)\n",
        "# 스케일이 조정된 후 데이터셋의 속성을 출력합니다.\n",
        "print(\"변환된 후 크기:\", X_train_scaled.shape)\n",
        "print(\"스케일 조정 전 특성별 최소값:\\n\", X_train.min(axis=0))\n",
        "print(\"스케일 조정 전 특성별 최대값:\\n\", X_train.max(axis=0))\n",
        "print(\"스케일 조정 후 특성별 최소값:\\n\", X_train_scaled.min(axis=0))\n",
        "print(\"스케일 조정 후 특성별 최대값:\\n\", X_train_scaled.max(axis=0))\n",
        "\n",
        "#모든 특성의 값은 0과 1 사이로 변환되고, 변환된 데이터의 배열 크기는 원래 데이터와 동일하다. 즉 특성 값이 이동되거나 크기가 조정되었을 뿐"
      ],
      "execution_count": 0,
      "outputs": [
        {
          "output_type": "stream",
          "text": [
            "변환된 후 크기: (426, 30)\n",
            "스케일 조정 전 특성별 최소값:\n",
            " [6.981e+00 9.710e+00 4.379e+01 1.435e+02 5.263e-02 1.938e-02 0.000e+00\n",
            " 0.000e+00 1.060e-01 5.024e-02 1.153e-01 3.602e-01 7.570e-01 6.802e+00\n",
            " 1.713e-03 2.252e-03 0.000e+00 0.000e+00 9.539e-03 8.948e-04 7.930e+00\n",
            " 1.202e+01 5.041e+01 1.852e+02 7.117e-02 2.729e-02 0.000e+00 0.000e+00\n",
            " 1.566e-01 5.521e-02]\n",
            "스케일 조정 전 특성별 최대값:\n",
            " [2.811e+01 3.928e+01 1.885e+02 2.501e+03 1.634e-01 2.867e-01 4.268e-01\n",
            " 2.012e-01 3.040e-01 9.575e-02 2.873e+00 4.885e+00 2.198e+01 5.422e+02\n",
            " 3.113e-02 1.354e-01 3.960e-01 5.279e-02 6.146e-02 2.984e-02 3.604e+01\n",
            " 4.954e+01 2.512e+02 4.254e+03 2.226e-01 9.379e-01 1.170e+00 2.910e-01\n",
            " 5.774e-01 1.486e-01]\n",
            "스케일 조정 후 특성별 최소값:\n",
            " [0. 0. 0. 0. 0. 0. 0. 0. 0. 0. 0. 0. 0. 0. 0. 0. 0. 0. 0. 0. 0. 0. 0. 0.\n",
            " 0. 0. 0. 0. 0. 0.]\n",
            "스케일 조정 후 특성별 최대값:\n",
            " [1. 1. 1. 1. 1. 1. 1. 1. 1. 1. 1. 1. 1. 1. 1. 1. 1. 1. 1. 1. 1. 1. 1. 1.\n",
            " 1. 1. 1. 1. 1. 1.]\n"
          ],
          "name": "stdout"
        }
      ]
    },
    {
      "cell_type": "markdown",
      "metadata": {
        "id": "JrwqAzdQ7PFV",
        "colab_type": "text"
      },
      "source": [
        "> 변환된 데이터의 배열 크기는 원래 데이터와 동일하다. 즉 특성 값이 이동되거나 크기만 조정되었을 뿐이다."
      ]
    },
    {
      "cell_type": "code",
      "metadata": {
        "id": "2KwhV5yGIhXV",
        "colab_type": "code",
        "colab": {}
      },
      "source": [
        "# 테스트 데이터 변환\n",
        "X_test_scaled = scaler.transform(X_test)\n",
        "# 스케일이 조정된 후 테스트 데이터의 속성을 출력합니다.\n",
        "print(\"스케일 조정 후 특성별 최소값:\\n\", X_test_scaled.min(axis=0))\n",
        "print(\"스케일 조정 후 특성별 최대값:\\n\", X_test_scaled.max(axis=0))\n",
        "\n",
        "# 0~1 값이 아닌 이유는 훈련 세트와 테스트 세트에 같은 변환이 적용되어야 하기 때문에, transform 메서드는 테스트 세트에 훈련 세트의 최솟값을 빼고 훈련 세트의 범위로 나누기 때문이다."
      ],
      "execution_count": 0,
      "outputs": []
    },
    {
      "cell_type": "markdown",
      "metadata": {
        "id": "RRwe9oa27cgV",
        "colab_type": "text"
      },
      "source": [
        "> 특성 별 최소, 최대값이 각각 0과 1이 아니다. 이 이유는 MinMaxScaler는 항상 training set과 test set에 같은 변환을 적용해야 하기 때문이다. 따라서 transform 메서드는 테스트 세트의 최솟값과 범위를 사용하지 않고, 항상 training set의 최솟값을 빼고 training set의 범위로 나눈다."
      ]
    },
    {
      "cell_type": "markdown",
      "metadata": {
        "id": "rRshcB4QJTds",
        "colab_type": "text"
      },
      "source": [
        "## 3.3.3 (한국어판 부록) Quantile Transformer와 PowerTransformer\n",
        "\n",
        "\n",
        "> Quantile Transformer는 기본적으로 1,000개의 분위(quantile)을 사용하여 데이터를 균등하게 분포시킨다. 이상치에 민감하지 않고 전체 데이터를 0과 1사이로 압축한다.\n",
        "\n"
      ]
    },
    {
      "cell_type": "code",
      "metadata": {
        "id": "weFlDy0LJ9pd",
        "colab_type": "code",
        "colab": {}
      },
      "source": [
        "# 필요한 모듈 임포트\n",
        "import matplotlib.pyplot as plt\n",
        "import numpy as np\n",
        "from sklearn.datasets import make_blobs\n",
        "from sklearn.preprocessing import QuantileTransformer, StandardScaler, PowerTransformer"
      ],
      "execution_count": 0,
      "outputs": []
    },
    {
      "cell_type": "code",
      "metadata": {
        "id": "Ls65bZ6_KLhO",
        "colab_type": "code",
        "outputId": "81c59abe-bf9e-4a57-bc6c-53c9933263c6",
        "colab": {
          "base_uri": "https://localhost:8080/",
          "height": 292
        }
      },
      "source": [
        "# 예제 데이터 생성\n",
        "X, y = make_blobs(n_samples=50, centers=2, random_state=4, cluster_std=1)\n",
        "X += 3\n",
        "\n",
        "plt.scatter(X[:, 0], X[:, 1], c=y, s=30, edgecolors='black')\n",
        "plt.xlim(0, 16)\n",
        "plt.xlabel('x0')\n",
        "plt.ylim(0, 10)\n",
        "plt.ylabel('x1')\n",
        "plt.title(\"Original Data\")\n",
        "plt.show()"
      ],
      "execution_count": 0,
      "outputs": [
        {
          "output_type": "display_data",
          "data": {
            "image/png": "[encoded data removed]",
            "text/plain": [
              "<Figure size 432x288 with 1 Axes>"
            ]
          },
          "metadata": {
            "tags": []
          }
        }
      ]
    },
    {
      "cell_type": "code",
      "metadata": {
        "id": "RzkWKAsJNbxN",
        "colab_type": "code",
        "outputId": "883ec582-dc36-414d-d982-22cd9917ed16",
        "colab": {
          "base_uri": "https://localhost:8080/",
          "height": 328
        }
      },
      "source": [
        "# QuantileTransformer 적용\n",
        "scaler = QuantileTransformer()\n",
        "X_trans = scaler.fit_transform(X)\n",
        "\n",
        "plt.scatter(X_trans[:, 0], X_trans[:, 1], c=y, s=30, edgecolors='black')\n",
        "plt.xlim(0, 5)\n",
        "plt.xlabel('x0')\n",
        "plt.ylim(0, 5)\n",
        "plt.ylabel('x1')\n",
        "plt.title(type(scaler).__name__)\n",
        "plt.show()"
      ],
      "execution_count": 0,
      "outputs": [
        {
          "output_type": "stream",
          "text": [
            "/usr/local/lib/python3.6/dist-packages/sklearn/preprocessing/data.py:2239: UserWarning: n_quantiles (1000) is greater than the total number of samples (50). n_quantiles is set to n_samples.\n",
            "  % (self.n_quantiles, n_samples))\n"
          ],
          "name": "stderr"
        },
        {
          "output_type": "display_data",
          "data": {
            "image/png": "[encoded data removed]",
            "text/plain": [
              "<Figure size 432x288 with 1 Axes>"
            ]
          },
          "metadata": {
            "tags": []
          }
        }
      ]
    },
    {
      "cell_type": "code",
      "metadata": {
        "id": "uoZDO72zOLmk",
        "colab_type": "code",
        "outputId": "c6f911a2-3bef-4d71-9aa2-fc358872ed8d",
        "colab": {
          "base_uri": "https://localhost:8080/",
          "height": 268
        }
      },
      "source": [
        "# 히스토그램\n",
        "plt.hist(X_trans)\n",
        "plt.show()"
      ],
      "execution_count": 0,
      "outputs": [
        {
          "output_type": "display_data",
          "data": {
            "image/png": "[encoded data removed]",
            "text/plain": [
              "<Figure size 432x288 with 1 Axes>"
            ]
          },
          "metadata": {
            "tags": []
          }
        }
      ]
    },
    {
      "cell_type": "markdown",
      "metadata": {
        "id": "XxnGmHsYOgzr",
        "colab_type": "text"
      },
      "source": [
        "\n",
        "\n",
        "> QuantileTransformer의 분위 수는 n_quantiles 매개변수에서 설정할 수 있으며 기본값은 1,000이다.\n",
        "\n"
      ]
    },
    {
      "cell_type": "code",
      "metadata": {
        "id": "3rmDttM3OoPz",
        "colab_type": "code",
        "outputId": "d84edecb-96a0-40dd-aae8-1113e2cadb44",
        "colab": {
          "base_uri": "https://localhost:8080/",
          "height": 35
        }
      },
      "source": [
        "# 속성 크기 확인\n",
        "print(scaler.quantiles_.shape)"
      ],
      "execution_count": 0,
      "outputs": [
        {
          "output_type": "stream",
          "text": [
            "(50, 2)\n"
          ],
          "name": "stdout"
        }
      ]
    },
    {
      "cell_type": "code",
      "metadata": {
        "id": "IelsnT0gO5pz",
        "colab_type": "code",
        "outputId": "708f53f9-0d11-4577-9a74-1fe2b5f2569a",
        "colab": {
          "base_uri": "https://localhost:8080/",
          "height": 35
        }
      },
      "source": [
        "# 하나의 특성과 다섯 개의 샘플로 이루어진 간단한 데이터 셋\n",
        "x=np.array([[0], [5], [8], [9], [10]])\n",
        "\n",
        "# np.percentile() 함수는 두 번째 매개변수에서 지정한 분위에 해당하는 샘플을 추출하여 반환\n",
        "print(np.percentile(x[:, 0], [0, 25, 50, 75, 100]))"
      ],
      "execution_count": 0,
      "outputs": [
        {
          "output_type": "stream",
          "text": [
            "[ 0.  5.  8.  9. 10.]\n"
          ],
          "name": "stdout"
        }
      ]
    },
    {
      "cell_type": "code",
      "metadata": {
        "id": "hLZmpEDbPaI6",
        "colab_type": "code",
        "outputId": "f67eaf85-356a-4c9a-c0b1-d5f97a5d0141",
        "colab": {
          "base_uri": "https://localhost:8080/",
          "height": 71
        }
      },
      "source": [
        "# QuantileTransformer로 변환 후 확인\n",
        "x_trans = QuantileTransformer().fit_transform(x)\n",
        "print(np.percentile(x_trans[:, 0], [0, 25, 50, 75, 100]))"
      ],
      "execution_count": 0,
      "outputs": [
        {
          "output_type": "stream",
          "text": [
            "[0.   0.25 0.5  0.75 1.  ]\n"
          ],
          "name": "stdout"
        },
        {
          "output_type": "stream",
          "text": [
            "/usr/local/lib/python3.6/dist-packages/sklearn/preprocessing/data.py:2239: UserWarning: n_quantiles (1000) is greater than the total number of samples (5). n_quantiles is set to n_samples.\n",
            "  % (self.n_quantiles, n_samples))\n"
          ],
          "name": "stderr"
        }
      ]
    },
    {
      "cell_type": "markdown",
      "metadata": {
        "id": "AOzsCW6-92TB",
        "colab_type": "text"
      },
      "source": [
        "> QuantileTransformer는 output_distribution 매개변수에서 normal로 지정하여 균등 분포가 아니라 정규분포로 출력을 바꿀 수 있다."
      ]
    },
    {
      "cell_type": "code",
      "metadata": {
        "id": "k4gGjB4nP9PS",
        "colab_type": "code",
        "outputId": "23719e39-ef5d-4167-e833-9da1e0022044",
        "colab": {
          "base_uri": "https://localhost:8080/",
          "height": 328
        }
      },
      "source": [
        "scaler = QuantileTransformer(output_distribution='normal')\n",
        "X_trans = scaler.fit_transform(X)\n",
        "\n",
        "plt.scatter(X_trans[:, 0], X_trans[:, 1], c=y, s=30, edgecolors='black')\n",
        "plt.xlim(-5, 5)\n",
        "plt.xlabel('x0')\n",
        "plt.ylim(-5,5)\n",
        "plt.ylabel('x1')\n",
        "plt.title(type(scaler).__name__)\n",
        "plt.show()"
      ],
      "execution_count": 0,
      "outputs": [
        {
          "output_type": "stream",
          "text": [
            "/usr/local/lib/python3.6/dist-packages/sklearn/preprocessing/data.py:2239: UserWarning: n_quantiles (1000) is greater than the total number of samples (50). n_quantiles is set to n_samples.\n",
            "  % (self.n_quantiles, n_samples))\n"
          ],
          "name": "stderr"
        },
        {
          "output_type": "display_data",
          "data": {
            "image/png": "[encoded data removed]",
            "text/plain": [
              "<Figure size 432x288 with 1 Axes>"
            ]
          },
          "metadata": {
            "tags": []
          }
        }
      ]
    },
    {
      "cell_type": "markdown",
      "metadata": {
        "id": "djCzMi2E-TmV",
        "colab_type": "text"
      },
      "source": [
        "> scikit-learn에는 데이터의 특성별로 정규분포 형태에 가깝도록 변환해주는 PowerTransformer가 추가되었다. method 매개변수에 'yeo-johnson'과 'box-cox' 알고리즘을 지정할 수 있다."
      ]
    },
    {
      "cell_type": "code",
      "metadata": {
        "id": "LJJ602d2Qqyd",
        "colab_type": "code",
        "outputId": "759a8987-3995-4a02-8791-c8e4a53e97ed",
        "colab": {
          "base_uri": "https://localhost:8080/",
          "height": 1000
        }
      },
      "source": [
        "plt.hist(X)\n",
        "plt.title('Original Data')\n",
        "plt.show()\n",
        "\n",
        "X_trans = QuantileTransformer(output_distribution='normal').fit_transform(X)\n",
        "plt.hist(X_trans)\n",
        "plt.title('QuantileTransformer')\n",
        "plt.show()\n",
        "\n",
        "X_trans = StandardScaler().fit_transform(X)\n",
        "plt.hist(X_trans)\n",
        "plt.title('StandardScaler')\n",
        "plt.show()\n",
        "\n",
        "X_trans = PowerTransformer(method='box-cox').fit_transform(X)\n",
        "plt.hist(X_trans)\n",
        "plt.title('PowerTransformer box-cox')\n",
        "plt.show()\n",
        "\n",
        "X_trans = PowerTransformer(method='yeo-johnson').fit_transform(X)\n",
        "plt.hist(X_trans)\n",
        "plt.title('PowerTransformer yeo-johnson')\n",
        "plt.show()"
      ],
      "execution_count": 0,
      "outputs": [
        {
          "output_type": "display_data",
          "data": {
            "image/png": "[encoded data removed]",
            "text/plain": [
              "<Figure size 432x288 with 1 Axes>"
            ]
          },
          "metadata": {
            "tags": []
          }
        },
        {
          "output_type": "stream",
          "text": [
            "/usr/local/lib/python3.6/dist-packages/sklearn/preprocessing/data.py:2239: UserWarning: n_quantiles (1000) is greater than the total number of samples (50). n_quantiles is set to n_samples.\n",
            "  % (self.n_quantiles, n_samples))\n"
          ],
          "name": "stderr"
        },
        {
          "output_type": "display_data",
          "data": {
            "image/png": "[encoded data removed]",
            "text/plain": [
              "<Figure size 432x288 with 1 Axes>"
            ]
          },
          "metadata": {
            "tags": []
          }
        },
        {
          "output_type": "display_data",
          "data": {
            "image/png": "[encoded data removed]",
            "text/plain": [
              "<Figure size 432x288 with 1 Axes>"
            ]
          },
          "metadata": {
            "tags": []
          }
        },
        {
          "output_type": "display_data",
          "data": {
            "image/png": "[encoded data removed]",
            "text/plain": [
              "<Figure size 432x288 with 1 Axes>"
            ]
          },
          "metadata": {
            "tags": []
          }
        },
        {
          "output_type": "display_data",
          "data": {
            "image/png": "[encoded data removed]",
            "text/plain": [
              "<Figure size 432x288 with 1 Axes>"
            ]
          },
          "metadata": {
            "tags": []
          }
        }
      ]
    },
    {
      "cell_type": "markdown",
      "metadata": {
        "id": "KSvJpTUVR-CA",
        "colab_type": "text"
      },
      "source": [
        "## 3.3.4 훈련 데이터와 테스트 데이터의 스케일을 같은 방법으로 조정하기\n",
        "\n",
        "> 지도 학습 모델에서 test set을 사용하려면 training set과 test set에 같은 변환을 적용해야 한다.\n",
        "\n"
      ]
    },
    {
      "cell_type": "code",
      "metadata": {
        "id": "PR-KKwZzcZCA",
        "colab_type": "code",
        "outputId": "3327a7ce-40e9-4e2f-a44d-37433a1fda74",
        "colab": {
          "base_uri": "https://localhost:8080/",
          "height": 293
        }
      },
      "source": [
        "# 스케일 조정 할 때 테스트 세트를 이용해서 하는 경우\n",
        "\n",
        "from sklearn.datasets import make_blobs\n",
        "# 인위적인 데이터 생성\n",
        "X, _= make_blobs(n_samples=50, centers=5, random_state=4, cluster_std=2)\n",
        "# training set과 test set으로 나눕니다.\n",
        "X_train, X_test = train_test_split(X, random_state=5, test_size=.1)\n",
        "\n",
        "# training set과 test set의 산점도를 그립니다.\n",
        "fig, axes = plt.subplots(1, 3, figsize=(13,4))\n",
        "axes[0].scatter(X_train[:, 0], X_train[:, 1],\n",
        "                c=mglearn.cm2.colors[0], label=\"훈련 세트\", s=60)\n",
        "axes[0].scatter(X_test[:, 0], X_test[:, 1], marker='^',\n",
        "                c=mglearn.cm2.colors[1], label=\"테스트 세트\", s=60)\n",
        "axes[0].legend(loc='upper left')\n",
        "axes[0].set_title(\"원본 데이터\")\n",
        "\n",
        "#MinMaxScaler를 사용해 스케일을 조정합니다.\n",
        "scaler=MinMaxScaler()\n",
        "scaler.fit(X_train)\n",
        "X_train_scaled = scaler.transform(X_train)\n",
        "X_test_scaled = scaler.transform(X_test)\n",
        "\n",
        "# 스케일이 조정된 데이터의 산점도를 그립니다.\n",
        "axes[1].scatter(X_train_scaled[:, 0], X_train_scaled[:, 1],\n",
        "                c=mglearn.cm2.colors[0], label=\"훈련 세트\", s=60)\n",
        "axes[1].scatter(X_test_scaled[:, 0], X_test_scaled[:, 1], marker='^',\n",
        "                c=mglearn.cm2.colors[1], label=\"테스트 세트\", s=60)\n",
        "axes[1].set_title(\"스케일 조정된 데이터\")\n",
        "\n",
        "# test set의 스케일을 따로 조정합니다.\n",
        "# test set의 최솟값은 0, 최댓값은 1이 됩니다.\n",
        "# 이는 예제를 위한 것으로, 절대로 이렇게 사용해서는 안 됩니다.\n",
        "test_scaler=MinMaxScaler()\n",
        "test_scaler.fit(X_test)\n",
        "X_test_scaled_badly = test_scaler.transform(X_test)\n",
        "\n",
        "# 잘못 조정된 데이터의 산점도를 그립니다.\n",
        "axes[2].scatter(X_train_scaled[:, 0], X_train_scaled[:, 1],\n",
        "                c=mglearn.cm2.colors[0], label=\"training set\", s=60)\n",
        "axes[2].scatter(X_test_scaled_badly[:, 0], X_test_scaled_badly[:, 1],\n",
        "                marker='^', c=mglearn.cm2.colors[1], label=\"test set\", s=60)\n",
        "axes[2].set_title(\"잘못 조정된 데이터\")\n",
        "\n",
        "for ax in axes:\n",
        "  ax.set_xlabel(\"특성 0\")\n",
        "  ax.set_ylabel(\"특성 1\")"
      ],
      "execution_count": 0,
      "outputs": [
        {
          "output_type": "display_data",
          "data": {
            "image/png": "[encoded data removed]",
            "text/plain": [
              "<Figure size 936x288 with 3 Axes>"
            ]
          },
          "metadata": {
            "tags": []
          }
        }
      ]
    },
    {
      "cell_type": "markdown",
      "metadata": {
        "id": "yidmqzCWBHB0",
        "colab_type": "text"
      },
      "source": [
        "> 왼쪽 그래프는 2차원 원본 dataset이며, training set은 원, test set은 삼각형으로 표현돼있다. 가운데 그래프는 같은 데이터를 MinMaxScaler로 올바르게 스케일을 조정한 것이다. 오른쪽 그래프는 training set과 test set의 스케일을 서로 다른 방식으로 조정했을 때의 결과이다. test set의 개체가 training set의 개체와 스케일이 다르게 조정되었기 때문에 training set과 다른 비율로 이동했다. 따라서 원본 데이터와 비교 했을 때 데이터 배열이 뒤죽박죽 섞이게 된다. 따라서 반드시 지도 학습 모델에서 training set의 범위와 같은 변환을 적용해야 한다."
      ]
    },
    {
      "cell_type": "markdown",
      "metadata": {
        "id": "FPiS87PNCmdR",
        "colab_type": "text"
      },
      "source": [
        "### 단축 메서드와 효율적인 방법\n",
        "\n",
        "> 보통 어떤 dataset에 fit을 적용하면 transform을 호출한다. 이는 매우 전형적인 작업이라 fit과 transform을 차례로 호출하는 것보다 효율적인 방법이 필요하다. 이럴 때를 위해 transform 메서드를 가진 모든 모델은 fit_transform 메서드를 제공한다."
      ]
    },
    {
      "cell_type": "code",
      "metadata": {
        "id": "gnmpIO3hA6TW",
        "colab_type": "code",
        "colab": {}
      },
      "source": [
        "from sklearn.preprocessing import StandardScaler\n",
        "scaler = StandardScaler()\n",
        "# 메소드 체이닝(chaining)을 사용하여 fit과 transform을 연달아 호출합니다.\n",
        "X_scaled = scaler.fit(X_train).transform(X_train)\n",
        "# 위와 동일하지만 더 효율적입니다.\n",
        "X_scaled_d = scaler.fit_transform(X_train)"
      ],
      "execution_count": 0,
      "outputs": []
    },
    {
      "cell_type": "markdown",
      "metadata": {
        "id": "3kkFLzc8BN1D",
        "colab_type": "text"
      },
      "source": [
        "## 3.3.5 지도 학습에서 데이터 전처리 효과"
      ]
    },
    {
      "cell_type": "code",
      "metadata": {
        "id": "FNcXjjEaBNBl",
        "colab_type": "code",
        "outputId": "1b1b0ceb-324e-4eb6-b155-ddbffcd3570c",
        "colab": {
          "base_uri": "https://localhost:8080/",
          "height": 91
        }
      },
      "source": [
        "# cancer dataset에서 SVC를 학습시킬 때 MinMaxScaler의 효과 확인\n",
        "\n",
        "from sklearn.svm import SVC\n",
        "\n",
        "X_train, X_test, y_train, y_test = train_test_split(cancer.data, cancer.target,\n",
        "                                                    random_state=0)\n",
        "\n",
        "svm=SVC(C=100)\n",
        "svm.fit(X_train, y_train)\n",
        "print(\"테스트 세트 정확도: {:.2f}\".format(svm.score(X_test, y_test)))"
      ],
      "execution_count": 0,
      "outputs": [
        {
          "output_type": "stream",
          "text": [
            "테스트 세트 정확도: 0.63\n"
          ],
          "name": "stdout"
        },
        {
          "output_type": "stream",
          "text": [
            "/usr/local/lib/python3.6/dist-packages/sklearn/svm/base.py:193: FutureWarning: The default value of gamma will change from 'auto' to 'scale' in version 0.22 to account better for unscaled features. Set gamma explicitly to 'auto' or 'scale' to avoid this warning.\n",
            "  \"avoid this warning.\", FutureWarning)\n"
          ],
          "name": "stderr"
        }
      ]
    },
    {
      "cell_type": "code",
      "metadata": {
        "id": "c2Av1mqTB2-g",
        "colab_type": "code",
        "outputId": "8fa805c7-7b2d-4baf-d850-6bb649b2b3a2",
        "colab": {
          "base_uri": "https://localhost:8080/",
          "height": 91
        }
      },
      "source": [
        "# MinMaxScaler를 사용해 데이터 스케일 조정\n",
        "\n",
        "# 0~1 사이로 스케일 조정\n",
        "scaler=MinMaxScaler()\n",
        "scaler.fit(X_train)\n",
        "X_train_scaled = scaler.transform(X_train)\n",
        "X_test_scaled = scaler.transform(X_test)\n",
        "\n",
        "# 조정된 데이터로 SVM 학습\n",
        "svm.fit(X_train_scaled, y_train)\n",
        "\n",
        "# 스케일 조정된 테스트 세트의 정확도\n",
        "print(\"스케일 조정된 테스트 세트의 정확도: {:.2f}\".format(\n",
        "    svm.score(X_test_scaled, y_test)))"
      ],
      "execution_count": 0,
      "outputs": [
        {
          "output_type": "stream",
          "text": [
            "스케일 조정된 테스트 세트의 정확도: 0.97\n"
          ],
          "name": "stdout"
        },
        {
          "output_type": "stream",
          "text": [
            "/usr/local/lib/python3.6/dist-packages/sklearn/svm/base.py:193: FutureWarning: The default value of gamma will change from 'auto' to 'scale' in version 0.22 to account better for unscaled features. Set gamma explicitly to 'auto' or 'scale' to avoid this warning.\n",
            "  \"avoid this warning.\", FutureWarning)\n"
          ],
          "name": "stderr"
        }
      ]
    },
    {
      "cell_type": "markdown",
      "metadata": {
        "id": "tT-tNg46DGta",
        "colab_type": "text"
      },
      "source": [
        "> 모든 전처리 모델이 동일한 fit, transform 메서드를 제공하므로 사용하는 파이썬 클래스만 바꾸면 다른 전처리 알고리즘으로 손쉽게 교체할 수 있다."
      ]
    },
    {
      "cell_type": "code",
      "metadata": {
        "id": "XjeQSUrtCfD5",
        "colab_type": "code",
        "outputId": "ffabd0ac-204a-4863-b0ed-12f2ba5b9774",
        "colab": {
          "base_uri": "https://localhost:8080/",
          "height": 35
        }
      },
      "source": [
        "# 평균 0, 분산 1을 갖도록 스케일 조정\n",
        "from sklearn.preprocessing import StandardScaler\n",
        "scaler=StandardScaler()\n",
        "scaler.fit(X_train)\n",
        "X_train_scaled = scaler.transform(X_train)\n",
        "X_test_scaled = scaler.transform(X_test)\n",
        "\n",
        "#조정된 데이터로 SVM 학습\n",
        "svm.fit(X_train_scaled, y_train)\n",
        "\n",
        "# 스케일 조정된 테스트 세트의 정확도\n",
        "print(\"SVM test accuracy: {:.2f}\".format(svm.score(X_test_scaled, y_test)))"
      ],
      "execution_count": 0,
      "outputs": [
        {
          "output_type": "stream",
          "text": [
            "SVM test accuracy: 0.96\n"
          ],
          "name": "stdout"
        }
      ]
    }
  ]
}